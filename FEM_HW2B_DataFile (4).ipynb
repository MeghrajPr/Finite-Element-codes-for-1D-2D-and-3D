{
  "cells": [
    {
      "cell_type": "markdown",
      "source": [
        "# Name : **Meghraj Prajapat**\n",
        "# Roll number : **23M1583**"
      ],
      "metadata": {
        "id": "SLTvqpLfWN-P"
      },
      "id": "SLTvqpLfWN-P"
    },
    {
      "cell_type": "markdown",
      "source": [
        "# This is a Single Notebook which has two parts\n",
        "## Part(1) -> Here I have put all the necessary modified functions which were used to solve problems.\n",
        "## Part(2) -> In this part I have solved HW2B problems."
      ],
      "metadata": {
        "id": "BqOD3G7j9OYD"
      },
      "id": "BqOD3G7j9OYD"
    },
    {
      "cell_type": "code",
      "execution_count": null,
      "id": "c2386bec",
      "metadata": {
        "id": "c2386bec"
      },
      "outputs": [],
      "source": [
        "%load_ext autoreload\n",
        "%autoreload 2\n"
      ]
    },
    {
      "cell_type": "code",
      "source": [
        "#import sys, os\n",
        "\n",
        "# Disable\n",
        "#def blockPrint():\n",
        "#    sys.stdout = open(os.devnull, 'w')\n",
        "\n",
        "# Restore\n",
        "#def enablePrint():\n",
        "#   sys.stdout = sys.__stdout__"
      ],
      "metadata": {
        "id": "t3Ktty5_HP5H"
      },
      "id": "t3Ktty5_HP5H",
      "execution_count": null,
      "outputs": []
    },
    {
      "cell_type": "code",
      "source": [
        "# from FormStiff1D import FormStiff1D\n",
        "# from ShapeFunctions import shape_barln"
      ],
      "metadata": {
        "id": "WL8vhtRWM1un"
      },
      "id": "WL8vhtRWM1un",
      "execution_count": null,
      "outputs": []
    },
    {
      "cell_type": "code",
      "source": [
        "import numpy as np\n",
        "from sympy import *\n",
        "import math\n",
        "import matplotlib.pyplot as pt"
      ],
      "metadata": {
        "id": "AQPg6q1bNJHN"
      },
      "id": "AQPg6q1bNJHN",
      "execution_count": null,
      "outputs": []
    },
    {
      "cell_type": "markdown",
      "source": [
        "# Part(1)"
      ],
      "metadata": {
        "id": "UweReVhk94Sz"
      },
      "id": "UweReVhk94Sz"
    },
    {
      "cell_type": "code",
      "source": [
        "import numpy as np                        # to import all the mathematical functions and arrays\n",
        "from scipy.special import roots_legendre  # to import the function which evaluates the Gauss points and weights\n",
        "\n",
        "def FormNodLoad1D(nodal_data, ndof, ngauss, ld, shape_barl):\n",
        "   # for       i=0 [0,0.2], gauss points, for i=0,[38.22, 38.22](load at left and right node) , function\n",
        "\n",
        "    #------------------Function Definition -----------------------------------#\n",
        "    #-------------------------------------------------------------------------#\n",
        "    # let nodal data\n",
        "    # ngauss ->\n",
        "    # ld -> load vector....\n",
        "    # shape_barl -> Function to calculate local source vector\n",
        "\n",
        "    l = nodal_data[-1,0] - nodal_data[0,0]  # length of a single element\n",
        "    nnodcon = len(nodal_data)               # number of nodes for an element\n",
        "    force = np.zeros([nnodcon*ndof,1])      # ndof =1 , always for 1D bar\n",
        "    if ndof==1:\n",
        "      if ngauss == 0:\n",
        "        force = shape_barl(l,ld.mean())\n",
        "      elif ngauss ==1:\n",
        "        print('')\n",
        "      elif ngauss==2:\n",
        "        print('')\n",
        "      pass\n",
        "\n",
        "\n",
        "    else:\n",
        "      # beam problem, ngauss = 2\n",
        "      print('beam load defined (distributed)')\n",
        "      lc_coord, weight = roots_legendre(ngauss)  # for ngauss=2, lc_coord =>[-0.57735027,  0.57735027], weigth => [1., 1.]\n",
        "      x=symbols('x')\n",
        "      N = shape_barl(l,x,ld)   #ld = function\n",
        "      K1 = np.vectorize(lambda expr: expr.subs(x,lc_coord[0]))(N)+np.vectorize(lambda expr: expr.subs(x,lc_coord[1]))(N)\n",
        "      force = (l/2)*K1.astype(np.float64)    # [1,4]\n",
        "\n",
        "\n",
        "    return force\n"
      ],
      "metadata": {
        "id": "0a3vcplz15JO"
      },
      "execution_count": null,
      "outputs": [],
      "id": "0a3vcplz15JO"
    },
    {
      "cell_type": "code",
      "source": [
        "def beam_load(l,x,ld):\n",
        "\n",
        "  z=symbols('z')\n",
        "  P0=np.array([1-3*z**2/l**2+2*z**3/l**3,z-2*z**2/l+z**3/l**2,3*z**2/l**2-2*z**3/l**3,-z**2/l+z**3/l**2])\n",
        "  P1=P0*ld\n",
        "  P = np.vectorize(lambda expr: expr.subs(z,l/2*(1+x)))(P1)\n",
        "  N= np.array([P])\n",
        "  return N\n"
      ],
      "metadata": {
        "id": "SPEHcU_8COb7"
      },
      "id": "SPEHcU_8COb7",
      "execution_count": null,
      "outputs": []
    },
    {
      "cell_type": "code",
      "source": [
        "def shape_barl(l,EA,*_):    #  - function handle for local stiffness matrix\n",
        "  stiff = (EA/l)*np.array([[1,-1],[-1,1]])  # Local stiffness matrix for an element\n",
        "  return stiff"
      ],
      "metadata": {
        "id": "FtBYI-Le-Uko"
      },
      "id": "FtBYI-Le-Uko",
      "execution_count": null,
      "outputs": []
    },
    {
      "cell_type": "code",
      "source": [
        "def load_barl(l,q,*_):     # load_barl\n",
        "  force = (q*l/2)*np.array([[1],[1]])\n",
        "  return force"
      ],
      "metadata": {
        "id": "k8LSDs3c-amc"
      },
      "id": "k8LSDs3c-amc",
      "execution_count": null,
      "outputs": []
    },
    {
      "cell_type": "code",
      "source": [
        "def shape_heatl(l,kA,ph):\n",
        "  K1 = (ph*l/6)*np.array([[2,1],[1,2]])\n",
        "  K2 =(kA/l)*np.array([[1,-1],[-1,1]])\n",
        "  stiff =K1+K2\n",
        "\n",
        "  return stiff"
      ],
      "metadata": {
        "id": "S0du12kUrhD_"
      },
      "id": "S0du12kUrhD_",
      "execution_count": null,
      "outputs": []
    },
    {
      "cell_type": "code",
      "source": [
        "def shape_heatq(l,kA,ph):\n",
        "  K1= (ph*l/30)*np.array([[4,2,-1],[2,16,2],[-1,2,4]])\n",
        "  K2=(kA/(3*l))*np.array([[7,-8,1],[-8,16,-8],[1,-8,7]])\n",
        "  stiff =K1+K2\n",
        "  return stiff"
      ],
      "metadata": {
        "id": "6_SpExX5rsIs"
      },
      "id": "6_SpExX5rsIs",
      "execution_count": null,
      "outputs": []
    },
    {
      "cell_type": "code",
      "source": [
        "import numpy as np    # to import all the mathematical functions and arrays\n",
        "from scipy.special import roots_legendre # to import the function which evaluates the Gauss points and weights\n",
        "\n",
        "def FormStiff1D(ndof, nodal_data, eleconnect, shape_barl):\n",
        "             # for i=0 [0,0.2] , [ 10^8, 10^8 ,0,0,0],\n",
        "\n",
        "    #----------------- Function Definition -----------------------------------#\n",
        "    # Function takes degrees of freedom, nodal data, element connectivity (Matdata and gauss points), and\n",
        "    # shape function as input to return the local stiffness matrix as output\n",
        "    #-------------------------------------------------------------------------#\n",
        "    # shape_barl : Function handle for calculating local stiffness matrix\n",
        "    ngauss = eleconnect[-1].astype(int)\n",
        "    print(f\"gauss points are {ngauss}\")\n",
        "    nnodcon = nodal_data.shape[0]\n",
        "    l = nodal_data[-1,0] - nodal_data[0,0]  # local element length\n",
        "    if ndof==1:\n",
        "      # bar problem\n",
        "      if ngauss == 0:\n",
        "        stiff = shape_barl(l,eleconnect[:nnodcon].mean(),eleconnect[nnodcon:2*nnodcon].mean())\n",
        "                  # local element length , EAmean for element (mean of 3rd and 4th value) , 0\n",
        "      elif ngauss==1:\n",
        "        print(\"bar problem with 1 gauss points\")\n",
        "\n",
        "        lc_coord, weight = roots_legendre(ngauss)\n",
        "        stiff = np.zeros((nnodcon*ndof, nnodcon*ndof))\n",
        "        x=symbols('x')\n",
        "        C = shape_barl(l,x)\n",
        "        EA =eleconnect[:nnodcon].mean()\n",
        "        stiff1= (l/2*EA)*(np.vectorize(lambda expr: expr.subs(x,lc_coord[0]))(C)*2)\n",
        "        stiff =stiff1.astype(np.float64)\n",
        "\n",
        "\n",
        "\n",
        "\n",
        "      elif ngauss==2:\n",
        "        if eleconnect[nnodcon:2*nnodcon].mean() ==0:\n",
        "          print(\"bar problem with 2 gauss points\")\n",
        "          lc_coord, weight = roots_legendre(ngauss)\n",
        "          stiff = np.zeros((nnodcon*ndof, nnodcon*ndof))\n",
        "          x=symbols('x')\n",
        "          C= shape_barl(l,x)\n",
        "          EA =eleconnect[:nnodcon].mean()\n",
        "          stiff1= (l/2*EA)*(np.vectorize(lambda expr: expr.subs(x,lc_coord[0]))(C)*weight[0]+np.vectorize(lambda expr: expr.subs(x,lc_coord[1]))(C)*weight[1])\n",
        "          stiff =stiff1.astype(np.float64)\n",
        "        else:\n",
        "          print('Quadratic Bar heat transfer with 2 gauss points')\n",
        "          lc_coord, weight = roots_legendre(ngauss)\n",
        "          stiff = np.zeros((nnodcon*ndof, nnodcon*ndof))\n",
        "          x=symbols('x')\n",
        "          C ,C1= shape_barl(l,x)\n",
        "          EA =eleconnect[:nnodcon].mean()\n",
        "          ph = eleconnect[nnodcon:2*nnodcon].mean()\n",
        "          stiff1= (l/2*EA)*(np.vectorize(lambda expr: expr.subs(x,lc_coord[0]))(C)*weight[0]+np.vectorize(lambda expr: expr.subs(x,lc_coord[1]))(C)*weight[1])\n",
        "          stiff2 =((l/2)*ph)*(np.vectorize(lambda expr: expr.subs(x,lc_coord[0]))(C1)*weight[0]+np.vectorize(lambda expr: expr.subs(x,lc_coord[1]))(C1)*weight[1])\n",
        "          stiff =stiff1.astype(np.float64) +stiff2.astype(np.float64)\n",
        "\n",
        "      elif ngauss==3:\n",
        "        if eleconnect[nnodcon:2*nnodcon].mean() ==0:\n",
        "          print('Quadratic Bar with 3 gauss points')\n",
        "          lc_coord, weight = roots_legendre(ngauss)\n",
        "          stiff = np.zeros((nnodcon*ndof, nnodcon*ndof))\n",
        "          x=symbols('x')\n",
        "          C,_ = shape_barl(l,x)\n",
        "          EA =eleconnect[:nnodcon].mean()\n",
        "          stiff1= (l/2*EA)*(np.vectorize(lambda expr: expr.subs(x,lc_coord[0]))(C)*weight[0]+np.vectorize(lambda expr: expr.subs(x,lc_coord[1]))(C)*weight[1]+\n",
        "                   np.vectorize(lambda expr: expr.subs(x,lc_coord[2]))(C)*weight[2])\n",
        "          stiff =stiff1.astype(np.float64)\n",
        "        else:\n",
        "          print('Quadratic Bar heat transfer with 3 gauss points')\n",
        "          lc_coord, weight = roots_legendre(ngauss)\n",
        "          stiff = np.zeros((nnodcon*ndof, nnodcon*ndof))\n",
        "          x=symbols('x')\n",
        "          C ,C1= shape_barl(l,x)\n",
        "          EA =eleconnect[:nnodcon].mean()\n",
        "          ph = eleconnect[nnodcon:2*nnodcon].mean()\n",
        "          stiff1= (l/2*EA)*(np.vectorize(lambda expr: expr.subs(x,lc_coord[0]))(C)*weight[0]+np.vectorize(lambda expr: expr.subs(x,lc_coord[1]))(C)*weight[1]+\n",
        "                   np.vectorize(lambda expr: expr.subs(x,lc_coord[2]))(C)*weight[2])\n",
        "          stiff2 =((l/2)*ph)*(np.vectorize(lambda expr: expr.subs(x,lc_coord[0]))(C1)*weight[0]+np.vectorize(lambda expr: expr.subs(x,lc_coord[1]))(C1)*weight[1]+\n",
        "                   np.vectorize(lambda expr: expr.subs(x,lc_coord[2]))(C1)*weight[2])\n",
        "          stiff =stiff1.astype(np.float64) +stiff2.astype(np.float64)\n",
        "\n",
        "\n",
        "    else:\n",
        "      # beam Problem\n",
        "      if ngauss == 2:\n",
        "        print('beam Stiffness is defined')\n",
        "        lc_coord, weight = roots_legendre(ngauss)\n",
        "        stiff = np.zeros((nnodcon*ndof, nnodcon*ndof))\n",
        "        z = symbols('z')\n",
        "        EI =eleconnect[:nnodcon].mean()\n",
        "        N , ddN = shape_barl(l,z)\n",
        "        K = np.matmul(ddN.T, ddN)\n",
        "        K1 = np.vectorize(lambda expr: expr.subs(z,lc_coord[0]))(K) + np.vectorize(lambda expr: expr.subs(z,lc_coord[1]))(K)\n",
        "        stiff = (8*EI/(l**3))*K1.astype(np.float64)\n",
        "      else:\n",
        "        print(\"No condition of Gauss Points follow\")\n",
        "\n",
        "    return stiff"
      ],
      "metadata": {
        "id": "oFbJ8Sm0BvVS"
      },
      "id": "oFbJ8Sm0BvVS",
      "execution_count": null,
      "outputs": []
    },
    {
      "cell_type": "code",
      "source": [
        "# Linear Lagrange Shape Function\n",
        "\n",
        "import numpy as np\n",
        "from sympy import *\n",
        "import math\n",
        "\n",
        "def shape_barln(l, x):\n",
        "\n",
        "    #------------------- Function Definition ---------------------------------#\n",
        "    # Function takes length of the element and gauss point as input and\n",
        "    # returns the linear Lagrange shape function and derivative as output\n",
        "\n",
        "    # Since there is no need for additional variables for postprocessing, the\n",
        "    # input variable ch is ignored\n",
        "    #-------------------------------------------------------------------------#\n",
        "\n",
        "    #-------------------- Output Variables -----------------------------------#\n",
        "    # N  : Linear Lagrange shape functions\n",
        "    # dN : First derivative of shape functions\n",
        "    # Np : This returns the geometric interpolation    ##?\n",
        "    #-------------------------------------------------------------------------#\n",
        "\n",
        "    # WRITE DOWN THE SHAPE FUNCTION AND THE FIRST DERIVATIVE\n",
        "    # USE l TO TAKE INTO ACCOUNT THE JACOBIAN OF TRANSFORMATION FOR DERIVATIVES.\n",
        "    z,lk,z1,z2,z3,L, Ax, xk =symbols('z lk z1 z2 z3 L Ax xk')\n",
        "    N1 =1-z/l\n",
        "    N2 =z/l\n",
        "    N =[N1,N2]\n",
        "    B=[]\n",
        "    for i in range(2):\n",
        "\n",
        "      K=diff(N[i],z)\n",
        "      B.append(K)\n",
        "    dN = np.array([B])\n",
        "    C1 = np.matmul(dN.T,dN)\n",
        "    C = np.vectorize(lambda expr: expr.subs(z,l/2*(1+x)))(C1)\n",
        "\n",
        "    return C\n",
        "\n",
        "# Quadratic Shape Function\n",
        "def shape_barqn(l, x):\n",
        "\n",
        "    #------------------- Function Definition ---------------------------------#\n",
        "    # Function takes length of the element and gauss point as input and\n",
        "    # returns the quadratric Lagrange shape function and derivative as output\n",
        "\n",
        "    # Since there is no need for additional variables for postprocessing, the\n",
        "    # input variable ch is ignored\n",
        "    #-------------------------------------------------------------------------#\n",
        "\n",
        "    #-------------------- Output Variables -----------------------------------#\n",
        "    # N  : Quadratic Lagrange shape functions\n",
        "    # dN : First derivative of shape functions\n",
        "    # Np : This returns the geometric interpolation\n",
        "    #-------------------------------------------------------------------------#\n",
        "\n",
        "    # WRITE DOWN THE SHAPE FUNCTION AND THE FIRST DERIVATIVE\n",
        "    # USE l TO TAKE INTO ACCOUNT THE JACOBIAN OF TRANSFORMATION FOR DERIVATIVES.\n",
        "    z,z1,z2,z3,L =symbols('z z1 z2 z3 L')\n",
        "    z1=0\n",
        "    z2=l/2\n",
        "    z3=l\n",
        "    N1 =(z-z2)*(z-z3)/((z1-z2)*(z1-z3))\n",
        "    N2 =(z-z1)*(z-z3)/((z2-z1)*(z2-z3))\n",
        "    N3= (z-z1)*(z-z2)/((z3-z1)*(z3-z2))\n",
        "    N =[N1,N2,N3]\n",
        "\n",
        "    N0 =np.array([N])\n",
        "    Nh=np.matmul(N0.T,N0)\n",
        "    Cn=np.vectorize(lambda expr: expr.subs(z,l/2*(1+x)))(Nh)\n",
        "\n",
        "    B=[]\n",
        "    for i in range(3):\n",
        "      K=diff(N[i],z)\n",
        "      B.append(K)\n",
        "\n",
        "    dN = np.array([B])\n",
        "\n",
        "    C1 = np.matmul(dN.T,dN)\n",
        "    C = np.vectorize(lambda expr: expr.subs(z,l/2*(1+x)))(C1)\n",
        "\n",
        "    return C,Cn\n",
        "\n",
        "# Hermite Cubic shape function\n",
        "def shape_beamln(l, x):\n",
        "\n",
        "    #------------------- Function Definition ----------------------------------#\n",
        "    # Function takes length of the element and gauss point as input and\n",
        "    # returns the shape function and derivative as output\n",
        "\n",
        "    # In the case of a beam, we assume that the material properties are\n",
        "    # interpolated linearly within the beam element. Further, for postprocessing\n",
        "    # of data, we need the third derivative as output. So, we use a variable to\n",
        "    # decide whether we are using the shape function for forming the stiffness\n",
        "    # and load vector, or if we are interested in postprocessing.\n",
        "\n",
        "    # ch : If choice is 1, then return N and B for stiffness matrix. Np for material properties\n",
        "    #      If choice is 2, then return N and B for secondary variables, and ddN for third derivative (stored as Np)\n",
        "    #---------------------------------------------------------------------------#\n",
        "\n",
        "    #----------------------- Output Variables ----------------------------------#\n",
        "    # N   : Hermite cubic shape functions\n",
        "    # ddN : Second derivative of shape functions\n",
        "    # Np  : This returns the geometric interpolation or third derivative depending upon input variable ch\n",
        "    #---------------------------------------------------------------------------#\n",
        "\n",
        "    # WRITE DOWN THE SHAPE FUNCTION AND THE SECOND DERIVATIVE\n",
        "    # USE l TO TAKE INTO ACCOUNT THE JACOBIAN OF TRANSFORMATION FOR DERIVATIVES.\n",
        "    #P= [(1/4)*(1-z**2)*(2+z), (l/8)*(1-z**2)*(1+z), (1/4)*(1+z**2)*(2-z),(-l/8)*((1+z)**2)*(1-z)]\n",
        "    z=symbols('z')\n",
        "    P1=[1-3*z**2/l**2+2*z**3/l**3,z-2*z**2/l+z**3/l**2,3*z**2/l**2-2*z**3/l**3,-z**2/l+z**3/l**2]\n",
        "    P = np.vectorize(lambda expr: expr.subs(z,l/2*(1+x)))(P1)\n",
        "\n",
        "    N= np.array([P])\n",
        "    B=[]\n",
        "    B1=[]\n",
        "\n",
        "    for i in range(4):\n",
        "      K=diff(P[i],z)\n",
        "      B.append(K)\n",
        "\n",
        "    dN= np.array(B)\n",
        "    for i in range(4):\n",
        "      K1 = diff(dN[i],z)\n",
        "      B1.append(K1)\n",
        "    ddN = np.array([B1])\n",
        "    ##if ch == 1:\n",
        "        #Np = np.array([[(1-xi)/2, (1+xi)/2]])\n",
        "    #else:\n",
        "        # FILL IN THE THIRD DERIVATIVE OF THE SHAPE FUNCTION IN NP\n",
        "        #Np = 0\n",
        "    return N, ddN #, Np"
      ],
      "metadata": {
        "id": "gNhIRptNB7yA"
      },
      "id": "gNhIRptNB7yA",
      "execution_count": null,
      "outputs": []
    },
    {
      "cell_type": "code",
      "source": [
        "\n",
        "\n",
        "def Fem_1D(ndof, nodal_data, nnodcon, eleconnect, fixeddofs, loadv, shape_barl, load_barl):\n",
        "\n",
        "    # Static analysis of 1D ODEs (2nd and 4th order) using Linear Finite\n",
        "    # Element Method.\n",
        "\n",
        "    # The following parameters must be given to the code in order to\n",
        "    # perform the necessary calculations. The ideal way is to generate an\n",
        "    # input file from a meshing software and parse the information into the\n",
        "    # specified variables using a separate MATLAB code. For 1D problems, the\n",
        "    # input can be created by brute-force or a simple script.\n",
        "\n",
        "    # -------------- Geometry, Material and load parameters --------------#\n",
        "\n",
        "    # ndof       : Number of degrees of freedom per node\n",
        "    #            : (1 for bar, 2 for beam)\n",
        "\n",
        "    # nodal_data : Nodal coordinates data (matrix of variable size)\n",
        "    #            : Node Number  | XCoord  |  YCoord (if Truss/Frame)  |  ZCoord(if 3D)\n",
        "\n",
        "    # nnodconn   : Number of nodes in each element\n",
        "\n",
        "    # eleconnect : Element Connectivity\n",
        "    #            : Ele no.  |  nod. con.  |  Mat Data  | Gauss points\n",
        "\n",
        "    # Mat data is (EA) or (kA)/(hP) or (EI) depending upon what problem you are solving.\n",
        "    # The number of columns in this array is 3*nnodcon+2 - for each node in\n",
        "    # the element, specify the relevant material properties:  (EA,0) or (kA,hP) or (EI,0)\n",
        "    # gauss point takes care of interpolation of material properties in the element\n",
        "\n",
        "    # fixeddofs  : nodes where primary variable is specified\n",
        "    #            : Node no.  |  Xconst (Y const if Beam)  |  (theta constraint if Beam)  | Value (X/Y) | Value (theta constraint)\n",
        "    #            : 1 implies constraint, 0 implies free dof\n",
        "    #            : 1 can be either fixed or specified displacement\n",
        "\n",
        "    # loadv      : distributed or concentrated loads\n",
        "    #            : load_type  |  Ele no./Node no  |   Load (X if Bar/Y if Beam)  |  Load (Moment if Beam, dist. variation) | Gauss points\n",
        "    # load_type  : 1 - point loads\n",
        "    #            : 2 - distributed loads\n",
        "    #            : 3 - Mixed Boundary condition\n",
        "\n",
        "    # shape_barl         : Function handle for calculating local stiffness matrix\n",
        "    # load_barl         : Function handle for calculating local source vector  (...............?)\n",
        "\n",
        "    # --------------------------------------------------------------------#\n",
        "\n",
        "    # -------------------------- Output ----------------------------------#\n",
        "    # U          : Vector of primary variable (displacement/temperature/rotation) at each node\n",
        "    # NV         : Vector of Neumann variable at each node (Reaction/Flux/Moment)\n",
        "    # --------------------------------------------------------------------#\n",
        "\n",
        "    # Number of nodes in the mesh\n",
        "    nnode = nodal_data.shape[0]     # 6 nodes  , #2 5\n",
        "\n",
        "    # Number of elements so that the stiffness matrix can be formed\n",
        "    nelmts = eleconnect.shape[0]    # 5 elements ,#2   2\n",
        "\n",
        "    # Total degrees of freedom for the model\n",
        "    tdof = nnode*ndof    # 6*1 =6    , #2  5\n",
        "    U = np.zeros([tdof,1])  # load vector 6 row 1 Col\n",
        "\n",
        "    if ndof == 1 and nnodcon == 2:\n",
        "        print('Second order ODE with linear Lagrange interpolation')\n",
        "    elif ndof == 1 and nnodcon == 3:\n",
        "        print('Second order ODE with quadratic Lagrange interpolation')\n",
        "    elif ndof == 2 and nnodcon == 2:\n",
        "        print('Fourth order ODE with Hermite cubic interpolation')\n",
        "    else:\n",
        "        raise ValueError('Wrong nodal connectivity and number of degrees of freedom. Check Input!')\n",
        "\n",
        "    ## The main section of the FE code starts here:\n",
        "    # You will have to write two subroutines FormStiff1D and FormNodLoad1D\n",
        "    # that will return local stiffness matrix and load vector. Then\n",
        "    # assemble them into the global array using element connectivity.\n",
        "\n",
        "    # Step 1 : Form Global Stiffness Matrix\n",
        "\n",
        "    Kstiff = np.zeros([tdof,tdof]) # global Matrix #2 5*5 matrix\n",
        "    for i in range(nelmts):\n",
        "        #i goes from 0 to n-1\n",
        "        # Obtain local stiffness matrix\n",
        "        # enodes -> current node connectivity i.e for first element enodes=[1,2]\n",
        "        if ndof==1:\n",
        "          enodes = eleconnect[i,1:(nnodcon+1)].astype(int)  # for i =0, [0,1]  , #2 [0,1,2]\n",
        "          stiff = FormStiff1D(ndof, nodal_data[enodes,1:], eleconnect[i,(nnodcon+1):],shape_barl)   #2 should be 3*3\n",
        "                              # for i=0   [0,0.2]    , [ 10^8, 10^8 ,0,0,0]\n",
        "                              # 2  for i=0 [0,.25,.5] , [1,8,7,0,0,0,3]\n",
        "\n",
        "        # ADD STIFF TO GLOBAL ELEMENT MATRIX. STEPS TO BE WRITTEN ARE:\n",
        "        # 1) CREATE MAP FROM LOCAL TO GLOBAL NODE NUMBERS\n",
        "        # 2) ADD LOCAL MATRIX TO GLOBAL STIFFNESS MATRIX\n",
        "          Kstiff[np.ix_(enodes,enodes)] += stiff\n",
        "        else:\n",
        "          print('Assembling for beam problem')\n",
        "          e1 = eleconnect[i,1:(nnodcon+1)].astype(int)\n",
        "          enodes=np.array([e1[0]*2, e1[0]*2+1,e1[0]*2+2,e1[0]*2+3])\n",
        "          stiff = FormStiff1D(ndof, nodal_data[e1,1:], eleconnect[i,(nnodcon+1):],shape_barl)\n",
        "          Kstiff[np.ix_(enodes,enodes)] += stiff\n",
        "\n",
        "\n",
        "\n",
        "\n",
        "    ## Step 2: Form global load vector, which consists of distributed load, point load, and any Robin/Mixed BCs\n",
        "    # While forming the load vector, we use the fact that point loads can be added directly\n",
        "    # to the load vector, whereas for distributed loads, we have to form the consistent load\n",
        "    # vector and add it to the global load vector.\n",
        "\n",
        "    loadvec = np.zeros([tdof,1])  # 6,1 for beam problem\n",
        "    for i in range(loadv.shape[0]):\n",
        "        if loadv[i,0] == 1:\n",
        "            print('Point Loads specified')\n",
        "            if ndof==1:\n",
        "              node_num= loadv[i,1].astype(int)\n",
        "              loadvec[node_num] +=loadv[i,2]\n",
        "                    #node          load\n",
        "            else:\n",
        "              #point loads for beam\n",
        "              node_num=loadv[i,1]\n",
        "              loadvec[node_num*2]+=loadv[i,2]    #to add point load at 0 , 2, 4..\n",
        "              loadvec[node_num*2+1]+=loadv[i,3]  #to add moment at 1,3,5...\n",
        "\n",
        "\n",
        "\n",
        "            ####### ADD POINT LOADS/MOMENTS to GLOBAL LOAD VECTOR #################\n",
        "\n",
        "        elif loadv[i][0] == 2:\n",
        "\n",
        "            print('Distributed loads specified')\n",
        "            if ndof==1:\n",
        "              # Determine local distributed load vector from separate routine\n",
        "              enodes = eleconnect[loadv[i][1].astype(int), 1:nnodcon+1].astype(int)   # => for i=0 , [0,1]\n",
        "              nodload = FormNodLoad1D(nodal_data[enodes, 1:], ndof, loadv[i][-1].astype(int), loadv[i][2:nnodcon+2], load_barl)\n",
        "                                    # for i=0 [0,0.2]     , 1   ,   # gauss points        , for i=0,[38.22, 38.22] , function\n",
        "\n",
        "              loadvec[np.ix_(enodes)] += nodload     ####### ADD DISTRIBUTED LOADS/MOMENTS to GLOBAL LOAD VECTOR #################\n",
        "            else:\n",
        "              print('Dist. Load for Beam is defined')\n",
        "              e1 = eleconnect[loadv[i][1], 1:nnodcon+1].astype(int) # for i=0,[0,1]\n",
        "              enodes=np.array([e1[0]*2, e1[0]*2+1,e1[0]*2+2,e1[0]*2+3])\n",
        "              ld =loadv[i,2]\n",
        "              nodload=FormNodLoad1D(nodal_data[e1,1:], ndof,loadv[i][-1],ld,load_barl)\n",
        "              loadvec[np.ix_(enodes,[0])] += nodload.T\n",
        "\n",
        "\n",
        "\n",
        "        else:\n",
        "          print('Mixed BC at node')\n",
        "          enodes=np.array([loadv[i,1].astype(int)])\n",
        "          Kstiff[np.ix_(enodes,enodes)]+=loadv[i,2]\n",
        "\n",
        "\n",
        "            ####### FILL ROUTINE TO INCORPORATE MIXED BC  ##############################\n",
        "\n",
        "    # Step 3: Determine Fixed/Specified Degrees of freedom\n",
        "    # This part of the code only fixes the node number.\n",
        "    # MODIFY THIS LOOP TO INCLUDE SPECIFIED DISPLACEMENT AT THE NODE.\n",
        "    print(loadvec)\n",
        "    print(Kstiff)\n",
        "\n",
        "    dof = np.zeros(tdof).astype(int)\n",
        "    count = 0\n",
        "    for i in range(fixeddofs.shape[0]):  # fixeddofs=[0,1,0]\n",
        "        for j in range(1, ndof+1):\n",
        "            if fixeddofs[i, j] == 1:\n",
        "                dof[count] = fixeddofs[i, 0]*ndof + j -1\n",
        "                count += 1\n",
        "\n",
        "    dof = dof[:count]\n",
        "    freedofs = np.setdiff1d(np.arange(0, tdof), dof)\n",
        "\n",
        "    # Step 4 : Solve KU = F\n",
        "    # CHECK THIS LINE AND RESOLVE ISSUES IF ANY\n",
        "\n",
        "    if len(dof)==0:\n",
        "      print('solving a matrix')\n",
        "      U = np.linalg.solve(Kstiff, np.zeros(Kstiff.shape[0]))\n",
        "    else:\n",
        "      U[dof[0]]=fixeddofs[0,-1]\n",
        "      U[freedofs] = np.linalg.solve(Kstiff[np.ix_(freedofs,freedofs)],loadvec[freedofs]-Kstiff[np.ix_(freedofs,dof)]@U[dof])\n",
        "\n",
        "    # Step 5 : Postprocess U to determine secondary variables in each element\n",
        "    L1 = np.matmul(Kstiff, U)\n",
        "\n",
        "\n",
        "    if ndof==1:\n",
        "      St=[]\n",
        "      for i in range(len(U)-1):\n",
        "        #enodes = eleconnect[i,1:(nnodcon+1)].astype(int)\n",
        "        #el1 =eleconnect[i,(nnodcon+1):]\n",
        "        #EA =el1[:nnodcon].mean()\n",
        "\n",
        "        e = (U[i+1]-U[i])/(nodal_data[i+1,1]-nodal_data[i,1])  # TO get strains St\n",
        "        St.append(e)\n",
        "      St=np.array(St)\n",
        "    else:\n",
        "      Uy=np.zeros(len(nodal_data[:,1]))  # displacements from U\n",
        "      Us = np.zeros(len(nodal_data[:,1]))  # Slopes from U\n",
        "      for i in range(len(Uy)):\n",
        "        Uy[i]=U[2*i]\n",
        "      for i in range(len(Us)):\n",
        "        Us[i]=U[2*i+1]\n",
        "      y2=[]\n",
        "      for i in range(len(Uy)-1):\n",
        "        e = (Uy[i+1]-Uy[i])/(nodal_data[i+1,1]-nodal_data[i,1])  # TO get strains St\n",
        "        y2.append(e)\n",
        "      St=np.array(y2)\n",
        "      pass\n",
        "    return U,St"
      ],
      "metadata": {
        "id": "Rv7R7UaOBi-V"
      },
      "id": "Rv7R7UaOBi-V",
      "execution_count": null,
      "outputs": []
    },
    {
      "cell_type": "code",
      "source": [],
      "metadata": {
        "id": "9SoVGVwmR9Z6"
      },
      "id": "9SoVGVwmR9Z6",
      "execution_count": null,
      "outputs": []
    },
    {
      "cell_type": "markdown",
      "id": "fce833b8",
      "metadata": {
        "id": "fce833b8"
      },
      "source": [
        "# Part(2) of File : Solving the problems given in homework\n",
        "## Data for Problem 1(a): Uniform bar subjected to distributed/end load"
      ]
    },
    {
      "cell_type": "code",
      "execution_count": null,
      "id": "4d819ae3",
      "metadata": {
        "id": "4d819ae3"
      },
      "outputs": [],
      "source": [
        "# Choosing Linear Bar Element\n",
        "ndof, nnodcon = 1, 2      # one dof and two node for an element\n",
        "\n",
        "# Unit length bar discretized with 5 elements\n",
        "L, nel = 1, 15\n",
        "\n",
        "# Create nodal data array\n",
        "nodal_data = np.zeros([nel+1, 2])\n",
        "for i in range(nel+1):\n",
        "    nodal_data[i, 0] = i\n",
        "    nodal_data[i, 1] = i*L/nel\n",
        "\n",
        "# Define Geometry parameters E,A\n",
        "E, A = 2e11, 5e-4\n",
        "\n",
        "# Size of element connectivity array is 3*nnodcon+2 = 8 in this case\n",
        "eleconnect = np.zeros([nel, (1 + (nnodcon * 3) + 1)])\n",
        "for i in range(nel):\n",
        "    eleconnect[i, 0] = i       # Element Number\n",
        "    eleconnect[i, 1] = i       # Left node for element\n",
        "    eleconnect[i, 2] = i + 1   # Right node for element\n",
        "    eleconnect[i, 3] = E*A     # EA or the correct value at the left node\n",
        "    eleconnect[i, 4] = E*A     # EA or the correct value at the right node\n",
        "    eleconnect[i, 5] = 0       # hP or the correct value at the left node              # For Heat transfer hp will come into picture\n",
        "    eleconnect[i, 6] = 0       # hP or the correct value at the right node\n",
        "    eleconnect[i, 7] = 0       # Gauss points for numerical integration...... 0\n",
        "\n",
        "# Fixed degrees of freedom for bar\n",
        "fdof = np.array([[0, 1, 0]])   # Bar fixed at left ends   (....?)\n",
        "\n",
        "# Load vector for bar\n",
        "F, p = 1e3, 9.8 * 7800\n",
        "loadv = np.zeros([nel, 5])     # For distributed load\n",
        "for i in range(nel):\n",
        "    loadv[i, 0] = 2     # Define Distributed Load:     2 -> distributed Load\n",
        "    loadv[i, 1] = i     # Element number where load is applied\n",
        "    loadv[i, 2] = p*A   # Distributed load at left node\n",
        "    loadv[i, 3] = p*A   # Distributed load at right node\n",
        "    loadv[i, 4] = 0     # Number of gauss points for numerical integration\n",
        "\n",
        "lpf = np.array([[1, nel, F, 0, 0]]) # For point Load , see definition above (extra values may be necessary depending upon problem)\n",
        "                #type, nodenumber,nodeload"
      ]
    },
    {
      "cell_type": "code",
      "source": [
        "len(nodal_data[:,1])"
      ],
      "metadata": {
        "colab": {
          "base_uri": "https://localhost:8080/"
        },
        "id": "4yKj4op1OWzK",
        "outputId": "185cee29-ab95-438c-f74c-8ba0cbf1324a"
      },
      "id": "4yKj4op1OWzK",
      "execution_count": null,
      "outputs": [
        {
          "output_type": "execute_result",
          "data": {
            "text/plain": [
              "16"
            ]
          },
          "metadata": {},
          "execution_count": 15
        }
      ]
    },
    {
      "cell_type": "code",
      "source": [
        "loadv1 = np.vstack([loadv,lpf])"
      ],
      "metadata": {
        "id": "p-mUN9OWBwG8"
      },
      "id": "p-mUN9OWBwG8",
      "execution_count": null,
      "outputs": []
    },
    {
      "cell_type": "code",
      "execution_count": null,
      "id": "7bcf0092",
      "metadata": {
        "id": "7bcf0092"
      },
      "outputs": [],
      "source": [
        "blockPrint()\n",
        "U1, St = Fem_1D(ndof, nodal_data, nnodcon, eleconnect, fdof, loadv1, shape_barl, load_barl)"
      ]
    },
    {
      "cell_type": "code",
      "execution_count": null,
      "id": "15b96c6d",
      "metadata": {
        "id": "15b96c6d"
      },
      "outputs": [],
      "source": [
        "Stress1=St*2e5"
      ]
    },
    {
      "cell_type": "code",
      "source": [
        "len(Stress1)"
      ],
      "metadata": {
        "colab": {
          "base_uri": "https://localhost:8080/"
        },
        "id": "i5YGhau9cjRV",
        "outputId": "dd02ef84-6241-42c1-8755-8d9c350b2b58"
      },
      "id": "i5YGhau9cjRV",
      "execution_count": null,
      "outputs": [
        {
          "output_type": "execute_result",
          "data": {
            "text/plain": [
              "15"
            ]
          },
          "metadata": {},
          "execution_count": 19
        }
      ]
    },
    {
      "cell_type": "code",
      "source": [
        "xi = np.linspace(0,L,100)\n",
        "st_an=(1038.22-38.22*xi)/(5e-4)"
      ],
      "metadata": {
        "id": "Pe5j4MGdReBA"
      },
      "id": "Pe5j4MGdReBA",
      "execution_count": null,
      "outputs": []
    },
    {
      "cell_type": "code",
      "source": [
        "pt.plot(xi,st_an*1e-6,label='Analytical Stress variation',c='b')\n",
        "for i in range(len(Stress1)):\n",
        "  x_val1 = np.arange(nodal_data[i,1], nodal_data[i+1,1]+0.0001,nodal_data[i+1,1]-nodal_data[i,1])\n",
        "  pt.plot(x_val1, np.array([Stress1[i][0],Stress1[i][0]]))# ,label=\"Stress in Element by FEM\")\n",
        "pt.legend()\n",
        "pt.grid('on')\n",
        "pt.show()"
      ],
      "metadata": {
        "colab": {
          "base_uri": "https://localhost:8080/",
          "height": 434
        },
        "id": "1bzlJnm4SGwg",
        "outputId": "9cde5de5-cc14-413d-87b7-8184b5e115b3"
      },
      "id": "1bzlJnm4SGwg",
      "execution_count": null,
      "outputs": [
        {
          "output_type": "display_data",
          "data": {
            "text/plain": [
              "<Figure size 640x480 with 1 Axes>"
            ],
            "image/png": "[encoded data removed]"
          },
          "metadata": {}
        }
      ]
    },
    {
      "cell_type": "code",
      "source": [
        "U_an=(1e-5)*xi+1.911e-7*xi**2"
      ],
      "metadata": {
        "id": "i1yzhytYTEid"
      },
      "id": "i1yzhytYTEid",
      "execution_count": null,
      "outputs": []
    },
    {
      "cell_type": "code",
      "source": [
        "pt.plot(xi,U_an,label='Analytical Displacements',c='b')\n",
        "pt.plot(nodal_data[:,1],U1, label='Displacements by FEM',c='r',linestyle='--')\n",
        "pt.legend()\n",
        "pt.grid('on')\n",
        "pt.show()"
      ],
      "metadata": {
        "colab": {
          "base_uri": "https://localhost:8080/",
          "height": 445
        },
        "id": "fLwbjnorTAMN",
        "outputId": "ec0b290f-cf8f-47e8-d852-d41636a3e5d1"
      },
      "id": "fLwbjnorTAMN",
      "execution_count": null,
      "outputs": [
        {
          "output_type": "display_data",
          "data": {
            "text/plain": [
              "<Figure size 640x480 with 1 Axes>"
            ],
            "image/png": "[encoded data removed]"
          },
          "metadata": {}
        }
      ]
    },
    {
      "cell_type": "markdown",
      "id": "8b73b80a",
      "metadata": {
        "id": "8b73b80a"
      },
      "source": [
        "## Data for Problem 1(b): Cantilever Beam subjected to end load/Moment\n",
        "\n",
        "\n",
        "\n"
      ]
    },
    {
      "cell_type": "code",
      "execution_count": null,
      "id": "1e343700",
      "metadata": {
        "id": "1e343700"
      },
      "outputs": [],
      "source": [
        "# Choosing Linear Bar Element\n",
        "ndof, nnodcon = 2, 2\n",
        "\n",
        "# Unit length bar discretized with 5 elements\n",
        "L, nel = 1, 2\n",
        "\n",
        "# Create nodal data array\n",
        "nodal_data = np.zeros([nel+1, 2])\n",
        "for i in range(nel+1):\n",
        "    nodal_data[i, 0] = i\n",
        "    nodal_data[i, 1] = i*L/nel\n",
        "\n",
        "# Define Geometry parameters E,A\n",
        "E, I = 2e11, 5e-6\n",
        "\n",
        "# Size of element connectivity array is 3*nnodcon+2\n",
        "eleconnect = np.zeros([nel, (1 + (nnodcon * 3) + 1)])\n",
        "for i in range(nel):\n",
        "    eleconnect[i, 0] = i       # Element Number\n",
        "    eleconnect[i, 1] = i       # Left node for element\n",
        "    eleconnect[i, 2] = i + 1   # Right node for element\n",
        "    eleconnect[i, 3] = E*I     # EA or the correct value at the left node\n",
        "    eleconnect[i, 4] = E*I     # EA or the correct value at the right node\n",
        "    eleconnect[i, 5] = 0       # hP or the correct value at the left node         # for conduction problem hp will be there\n",
        "    eleconnect[i, 6] = 0       # hP or the correct value at the right node\n",
        "    eleconnect[i, 7] = 2       # Gauss points for numerical integration\n",
        "\n",
        "# Fixed degrees of freedom for bar\n",
        "fdof = np.array([[0, 1, 1, 0, 0]]) # Bar fixed at left end\n",
        "\n",
        "# Load vector for bar\n",
        "\n",
        "F, M = 1e3, 1e4\n",
        "lpf = np.array([[1, nel, 1000, 0]])\n",
        "          #type, node_num,load\n",
        "lpm = np.array([[1, nel, 0, 10000]])\n",
        "          #"
      ]
    },
    {
      "cell_type": "code",
      "source": [
        "l1=np.vstack([lpf,lpm])\n",
        "l1[i]"
      ],
      "metadata": {
        "colab": {
          "base_uri": "https://localhost:8080/"
        },
        "id": "bpp4IPzYeMb2",
        "outputId": "9036f951-32f7-4968-8b4e-d6c59b4ed48a"
      },
      "id": "bpp4IPzYeMb2",
      "execution_count": null,
      "outputs": [
        {
          "output_type": "execute_result",
          "data": {
            "text/plain": [
              "array([    1,     2,     0, 10000])"
            ]
          },
          "metadata": {},
          "execution_count": 25
        }
      ]
    },
    {
      "cell_type": "code",
      "execution_count": null,
      "id": "a248b8a4",
      "metadata": {
        "id": "a248b8a4",
        "colab": {
          "base_uri": "https://localhost:8080/"
        },
        "outputId": "79955c46-3791-4c4d-897a-53f452ed9cf4"
      },
      "outputs": [
        {
          "output_type": "stream",
          "name": "stderr",
          "text": [
            "<ipython-input-13-bbdcfd4b5491>:198: DeprecationWarning: Conversion of an array with ndim > 0 to a scalar is deprecated, and will error in future. Ensure you extract a single element from your array before performing this operation. (Deprecated NumPy 1.25.)\n",
            "  Uy[i]=U[2*i]\n",
            "<ipython-input-13-bbdcfd4b5491>:200: DeprecationWarning: Conversion of an array with ndim > 0 to a scalar is deprecated, and will error in future. Ensure you extract a single element from your array before performing this operation. (Deprecated NumPy 1.25.)\n",
            "  Us[i]=U[2*i+1]\n"
          ]
        }
      ],
      "source": [
        "U1, St = Fem_1D(ndof, nodal_data, nnodcon, eleconnect, fdof, l1, shape_beamln, _)"
      ]
    },
    {
      "cell_type": "code",
      "source": [
        "U1"
      ],
      "metadata": {
        "colab": {
          "base_uri": "https://localhost:8080/"
        },
        "id": "NyFpk1rRl10s",
        "outputId": "a6c7a99c-5c09-4e9b-cf89-98d3d99b1b04"
      },
      "id": "NyFpk1rRl10s",
      "execution_count": null,
      "outputs": [
        {
          "output_type": "execute_result",
          "data": {
            "text/plain": [
              "array([[0.        ],\n",
              "       [0.        ],\n",
              "       [0.00135417],\n",
              "       [0.005375  ],\n",
              "       [0.00533333],\n",
              "       [0.0105    ]])"
            ]
          },
          "metadata": {},
          "execution_count": 27
        }
      ]
    },
    {
      "cell_type": "code",
      "source": [
        "St*2e5  # St are strains in elements"
      ],
      "metadata": {
        "colab": {
          "base_uri": "https://localhost:8080/"
        },
        "id": "6g3cAq1b1EOU",
        "outputId": "29b7f398-cd44-4031-dad4-acdc2e90654c"
      },
      "id": "6g3cAq1b1EOU",
      "execution_count": null,
      "outputs": [
        {
          "output_type": "execute_result",
          "data": {
            "text/plain": [
              "array([ 541.66666667, 1591.66666667])"
            ]
          },
          "metadata": {},
          "execution_count": 28
        }
      ]
    },
    {
      "cell_type": "markdown",
      "id": "c335e534",
      "metadata": {
        "id": "c335e534"
      },
      "source": [
        "## Data for Problem 2 and Solution"
      ]
    },
    {
      "cell_type": "code",
      "execution_count": null,
      "id": "995aaa1c",
      "metadata": {
        "id": "995aaa1c"
      },
      "outputs": [],
      "source": [
        "# Choosing linear bar element (each element has 2 nodes)\n",
        "ndof, nnodcon = 1, 2\n",
        "\n",
        "# Since we want to compare linear and quadratic elements, choose number of\n",
        "# elements for linear to be twice that of quadratic.\n",
        "L, kk = 1, 3\n",
        "nel = 2*kk\n",
        "\n",
        "nodal_data = np.zeros([nel+1,2])\n",
        "nodal_data[:,0] = np.linspace(0,nel,nel+1)\n",
        "nodal_data[:,1] = np.linspace(0,L,nel+1)\n",
        "\n",
        "# Define E, A\n",
        "E, A0 = 2e11, 5e-4;\n",
        "\n",
        "# Define A at nodes\n",
        "c = 0.5\n",
        "A = A0/L*(1-nodal_data[:,1]) + c*A0/L*nodal_data[:,1];   # Function to calculate area at nodes\n",
        "\n",
        "eleconnect = np.zeros([nel,3*nnodcon+2])\n",
        "for i in range(nel):\n",
        "    eleconnect[i,0:3] = np.array([i, i, i+1]) # Element Number, Left Node, Right Node\n",
        "    eleconnect[i,3] = E*A[i]; # EA at left node\n",
        "    eleconnect[i,4] = E*A[i+1]; # EA at right node\n",
        "    eleconnect[i,7] = 2; # Gauss point\n",
        "\n",
        "fdof = np.array([[0, 1, 0]]) # Bar fixed at left end\n",
        "\n",
        "F = 1e3;\n",
        "lpf = np.array([[1, nel, 1000]]) # Point load applied at x=L\n",
        "#U2l, St2l = Fem_1D(ndof, nodal_data, nnodcon, eleconnect, fdof, lpf)\n",
        "\n",
        "\n",
        "#U2q, St2q = Fem_1D(ndof, nodal_data, nnodcon, eleconnect, fdof, lpf)"
      ]
    },
    {
      "cell_type": "code",
      "source": [
        "eleconnect"
      ],
      "metadata": {
        "colab": {
          "base_uri": "https://localhost:8080/"
        },
        "id": "2g4_jVMxfFFC",
        "outputId": "300bf0ff-1b29-4743-af62-840d35d69ecf"
      },
      "id": "2g4_jVMxfFFC",
      "execution_count": null,
      "outputs": [
        {
          "output_type": "execute_result",
          "data": {
            "text/plain": [
              "array([[0.00000000e+00, 0.00000000e+00, 1.00000000e+00, 1.00000000e+08,\n",
              "        9.16666667e+07, 0.00000000e+00, 0.00000000e+00, 2.00000000e+00],\n",
              "       [1.00000000e+00, 1.00000000e+00, 2.00000000e+00, 9.16666667e+07,\n",
              "        8.33333333e+07, 0.00000000e+00, 0.00000000e+00, 2.00000000e+00],\n",
              "       [2.00000000e+00, 2.00000000e+00, 3.00000000e+00, 8.33333333e+07,\n",
              "        7.50000000e+07, 0.00000000e+00, 0.00000000e+00, 2.00000000e+00],\n",
              "       [3.00000000e+00, 3.00000000e+00, 4.00000000e+00, 7.50000000e+07,\n",
              "        6.66666667e+07, 0.00000000e+00, 0.00000000e+00, 2.00000000e+00],\n",
              "       [4.00000000e+00, 4.00000000e+00, 5.00000000e+00, 6.66666667e+07,\n",
              "        5.83333333e+07, 0.00000000e+00, 0.00000000e+00, 2.00000000e+00],\n",
              "       [5.00000000e+00, 5.00000000e+00, 6.00000000e+00, 5.83333333e+07,\n",
              "        5.00000000e+07, 0.00000000e+00, 0.00000000e+00, 2.00000000e+00]])"
            ]
          },
          "metadata": {},
          "execution_count": 30
        }
      ]
    },
    {
      "cell_type": "code",
      "source": [
        "U21, St21 = Fem_1D(ndof, nodal_data, nnodcon, eleconnect, fdof, lpf,shape_barln,load_barl)"
      ],
      "metadata": {
        "id": "QLEcCKKGH18m"
      },
      "id": "QLEcCKKGH18m",
      "execution_count": null,
      "outputs": []
    },
    {
      "cell_type": "code",
      "source": [
        "St21"
      ],
      "metadata": {
        "colab": {
          "base_uri": "https://localhost:8080/"
        },
        "id": "jRXrcncENvJb",
        "outputId": "de275a12-234e-42ac-88f3-eab85a75c5bb"
      },
      "id": "jRXrcncENvJb",
      "execution_count": null,
      "outputs": [
        {
          "output_type": "execute_result",
          "data": {
            "text/plain": [
              "array([[1.04347826e-05],\n",
              "       [1.14285714e-05],\n",
              "       [1.26315789e-05],\n",
              "       [1.41176471e-05],\n",
              "       [1.60000000e-05],\n",
              "       [1.84615385e-05]])"
            ]
          },
          "metadata": {},
          "execution_count": 32
        }
      ]
    },
    {
      "cell_type": "code",
      "source": [
        "U21"
      ],
      "metadata": {
        "colab": {
          "base_uri": "https://localhost:8080/"
        },
        "id": "MNK-Df88_XBH",
        "outputId": "4a343f1f-ce6b-40da-f924-4496271375c2"
      },
      "id": "MNK-Df88_XBH",
      "execution_count": null,
      "outputs": [
        {
          "output_type": "execute_result",
          "data": {
            "text/plain": [
              "array([[0.00000000e+00],\n",
              "       [1.73913043e-06],\n",
              "       [3.64389234e-06],\n",
              "       [5.74915550e-06],\n",
              "       [8.10209667e-06],\n",
              "       [1.07687633e-05],\n",
              "       [1.38456864e-05]])"
            ]
          },
          "metadata": {},
          "execution_count": 33
        }
      ]
    },
    {
      "cell_type": "code",
      "source": [
        "# Quadratic INterpolation\n",
        "nnodcon = 3; nel = 3;\n",
        "# nodal_data is the same as defined before.\n",
        "\n",
        "eleconnect = np.zeros([nel,1+nnodcon*3+1]);\n",
        "for i in range(nel):\n",
        "    eleconnect[i,0] = i;     # Element Number\n",
        "    eleconnect[i,1] = 2*i;   # Left node for element\n",
        "    eleconnect[i,2] = 2*i+1; # Center node for element\n",
        "    eleconnect[i,3] = 2*i+2; # Right node for element\n",
        "    #eleconnect[i,4:7] = E*A[[2*i,2*i+1,2*i+2]].mean() # EA at the three nodes\n",
        "    # uncomment lines 149-151 for correct EA distribution.\n",
        "    eleconnect[i,4] = E*A[2*i]   # EA at left node\n",
        "    eleconnect[i,5] = E*A[2*i+1] # EA at middle node\n",
        "    eleconnect[i,6] = E*A[2*i+2] # EA at right node\n",
        "    eleconnect[i,10] = 3; # Gauss point\n",
        "\n",
        "fdof = np.array([[0, 1, 0]])\n",
        "lpf = np.array([[1, 6, 1000]])"
      ],
      "metadata": {
        "id": "rczxfYJfUZc7"
      },
      "id": "rczxfYJfUZc7",
      "execution_count": null,
      "outputs": []
    },
    {
      "cell_type": "code",
      "source": [
        "blockPrint()\n",
        "U22, St22 = Fem_1D(ndof, nodal_data, nnodcon, eleconnect, fdof, lpf,shape_barqn,load_barl)"
      ],
      "metadata": {
        "id": "aB3u_hzQLQjn"
      },
      "id": "aB3u_hzQLQjn",
      "execution_count": null,
      "outputs": []
    },
    {
      "cell_type": "code",
      "source": [
        "U22"
      ],
      "metadata": {
        "colab": {
          "base_uri": "https://localhost:8080/"
        },
        "id": "Wv177zk5LVAG",
        "outputId": "029f4f14-e418-43b2-f806-6074d80122f9"
      },
      "id": "Wv177zk5LVAG",
      "execution_count": null,
      "outputs": [
        {
          "output_type": "execute_result",
          "data": {
            "text/plain": [
              "array([[0.00000000e+00],\n",
              "       [1.81818182e-06],\n",
              "       [3.63636364e-06],\n",
              "       [5.85858586e-06],\n",
              "       [8.08080808e-06],\n",
              "       [1.09379509e-05],\n",
              "       [1.37950938e-05]])"
            ]
          },
          "metadata": {},
          "execution_count": 36
        }
      ]
    },
    {
      "cell_type": "code",
      "source": [
        "xi=np.linspace(0,L,11)\n",
        "U_ana=(-2*F*L/(E*A0))*(np.log(2*L-xi)-np.log(2*L))"
      ],
      "metadata": {
        "id": "W1hBZkzklT_k"
      },
      "id": "W1hBZkzklT_k",
      "execution_count": null,
      "outputs": []
    },
    {
      "cell_type": "code",
      "source": [
        "pt.plot(xi,U_ana,c='b', label='Analytical Solution')\n",
        "\n",
        "pt.plot(nodal_data[:, 1], U21, 'r--', label='Linear FEM Solution')\n",
        "\n",
        "pt.plot(nodal_data[:, 1],U22, 'g-', label='Quadratic FEM Solution')\n",
        "pt.legend()\n",
        "pt.grid('on')\n",
        "pt.show()"
      ],
      "metadata": {
        "colab": {
          "base_uri": "https://localhost:8080/",
          "height": 445
        },
        "id": "geNUQUgFmbwE",
        "outputId": "7373e2b1-b73f-47c1-bfef-ccdfa6614e26"
      },
      "id": "geNUQUgFmbwE",
      "execution_count": null,
      "outputs": [
        {
          "output_type": "display_data",
          "data": {
            "text/plain": [
              "<Figure size 640x480 with 1 Axes>"
            ],
            "image/png": "[encoded data removed]"
          },
          "metadata": {}
        }
      ]
    },
    {
      "cell_type": "markdown",
      "source": [
        "# Problem 3 Solution"
      ],
      "metadata": {
        "id": "50Mud6YwmuRH"
      },
      "id": "50Mud6YwmuRH"
    },
    {
      "cell_type": "code",
      "source": [
        "# Funtion to calculate area\n",
        "def calculate_area(x):\n",
        "    if 0 <= x <= 2.5:\n",
        "        return 650 * (1.5 - 0.2 * x)**2\n",
        "    elif 2.5 < x <= 5.5:\n",
        "        return 650\n",
        "    else:\n",
        "        return 0\n"
      ],
      "metadata": {
        "id": "1_80wW2moeyC"
      },
      "id": "1_80wW2moeyC",
      "execution_count": null,
      "outputs": []
    },
    {
      "cell_type": "code",
      "source": [
        "# 2 - element descretization\n",
        "ndof, nnodcon = 1, 2\n",
        "\n",
        "L, kk = 5.5, 1\n",
        "nel = 2*kk\n",
        "\n",
        "#nodal_data = np.zeros([nel+1,2])\n",
        "#nodal_data[:,0] = np.linspace(0,nel,nel+1)\n",
        "#nodal_data[:,1] = np.linspace(0,L,nel+1)\n",
        "nodal_data1=np.array([[0,0],[1,2.5],[2,5.5]])\n",
        "xi=nodal_data1[:,1]\n",
        "# Define E, A\n",
        "E = np.array([200e3,70e3])  # in Mpa\n",
        "A= np.zeros(len(xi))\n",
        "for i in range(len(xi)):\n",
        "  A[i]=calculate_area(xi[i]) # Pass to a function to calculate area at all nodes\n",
        "\n",
        "eleconnect = np.zeros([nel,3*nnodcon+2])\n",
        "for i in range(nel):\n",
        "    eleconnect[i,0:3] = np.array([i, i, i+1]) # Element Number, Left Node, Right Node\n",
        "    eleconnect[i,3] = E[i]*A[i]; # EA at left node\n",
        "    eleconnect[i,4] = E[i]*A[i+1]; # EA at right node\n",
        "    eleconnect[i,7] = 2; # Gauss point\n",
        "\n",
        "fdof = np.array([[0, 1, 0]]) # Bar fixed at left end\n",
        "\n",
        "F = 1e3;\n",
        "lpf = np.array([[1, 1, 1000,0],[1,2,2000,0]]) # Point load applied at x=L"
      ],
      "metadata": {
        "id": "xkT3jGBQmyyv"
      },
      "id": "xkT3jGBQmyyv",
      "execution_count": null,
      "outputs": []
    },
    {
      "cell_type": "code",
      "source": [
        "nodal_data1[:,1]"
      ],
      "metadata": {
        "colab": {
          "base_uri": "https://localhost:8080/"
        },
        "id": "p8o88zbyqazl",
        "outputId": "ef22c477-46d6-4e48-da77-603d73d77542"
      },
      "id": "p8o88zbyqazl",
      "execution_count": null,
      "outputs": [
        {
          "output_type": "execute_result",
          "data": {
            "text/plain": [
              "array([0. , 2.5, 5.5])"
            ]
          },
          "metadata": {},
          "execution_count": 41
        }
      ]
    },
    {
      "cell_type": "code",
      "source": [
        "blockPrint()\n",
        "U31, St31 = Fem_1D(ndof, nodal_data1, nnodcon, eleconnect, fdof, lpf,shape_barln,load_barl)"
      ],
      "metadata": {
        "id": "tmf3Abqyv7nc"
      },
      "id": "tmf3Abqyv7nc",
      "execution_count": null,
      "outputs": []
    },
    {
      "cell_type": "code",
      "source": [
        "U31"
      ],
      "metadata": {
        "colab": {
          "base_uri": "https://localhost:8080/"
        },
        "id": "SZllQ8PPwug7",
        "outputId": "4f5cf692-95c7-4ca9-c811-0690f7518aa0"
      },
      "id": "SZllQ8PPwug7",
      "execution_count": null,
      "outputs": [
        {
          "output_type": "execute_result",
          "data": {
            "text/plain": [
              "array([[0.00000000e+00],\n",
              "       [3.55029586e-05],\n",
              "       [1.67371090e-04]])"
            ]
          },
          "metadata": {},
          "execution_count": 43
        }
      ]
    },
    {
      "cell_type": "code",
      "source": [
        "# Increasing number of elements to 4\n",
        "ndof, nnodcon = 1, 2\n",
        "\n",
        "L, kk = 5.5, 2\n",
        "nel = 2*kk\n",
        "\n",
        "#nodal_data = np.zeros([nel+1,2])\n",
        "#nodal_data[:,0] = np.linspace(0,nel,nel+1)\n",
        "#nodal_data[:,1] = np.linspace(0,L,nel+1)\n",
        "nodal_data2=np.array([[0,0],[1,1.25],[2,2.5],[3,4],[4,5.5]])\n",
        "xi=nodal_data2[:,1]\n",
        "# Define E, A\n",
        "E = np.array([200e3,200e3,70e3,70e3])  # in Mpa\n",
        "A= np.zeros(len(xi))\n",
        "for i in range(len(xi)):\n",
        "  A[i]=calculate_area(xi[i])\n",
        "\n",
        "eleconnect = np.zeros([nel,3*nnodcon+2])\n",
        "for i in range(nel):\n",
        "    eleconnect[i,0:3] = np.array([i, i, i+1]) # Element Number, Left Node, Right Node\n",
        "    eleconnect[i,3] = E[i]*A[i]; # EA at left node\n",
        "    eleconnect[i,4] = E[i]*A[i+1]; # EA at right node\n",
        "    eleconnect[i,7] = 2; # Gauss point\n",
        "\n",
        "fdof = np.array([[0, 1, 0]]) # Bar fixed at left end\n",
        "\n",
        "F = 1e3;\n",
        "lpf = np.array([[1, 2, 1000,0],[1,4,2000,0]]) # Point load applied at x=L\n"
      ],
      "metadata": {
        "id": "oAi4SMzozNzr"
      },
      "id": "oAi4SMzozNzr",
      "execution_count": null,
      "outputs": []
    },
    {
      "cell_type": "code",
      "source": [
        "eleconnect"
      ],
      "metadata": {
        "colab": {
          "base_uri": "https://localhost:8080/"
        },
        "id": "llUWnovF4CwV",
        "outputId": "891effd6-54a1-4bd0-f7d8-589d387c9abd"
      },
      "id": "llUWnovF4CwV",
      "execution_count": null,
      "outputs": [
        {
          "output_type": "execute_result",
          "data": {
            "text/plain": [
              "array([[0.00000e+00, 0.00000e+00, 1.00000e+00, 2.92500e+08, 2.03125e+08,\n",
              "        0.00000e+00, 0.00000e+00, 2.00000e+00],\n",
              "       [1.00000e+00, 1.00000e+00, 2.00000e+00, 2.03125e+08, 1.30000e+08,\n",
              "        0.00000e+00, 0.00000e+00, 2.00000e+00],\n",
              "       [2.00000e+00, 2.00000e+00, 3.00000e+00, 4.55000e+07, 4.55000e+07,\n",
              "        0.00000e+00, 0.00000e+00, 2.00000e+00],\n",
              "       [3.00000e+00, 3.00000e+00, 4.00000e+00, 4.55000e+07, 4.55000e+07,\n",
              "        0.00000e+00, 0.00000e+00, 2.00000e+00]])"
            ]
          },
          "metadata": {},
          "execution_count": 45
        }
      ]
    },
    {
      "cell_type": "code",
      "source": [
        "blockPrint()\n",
        "U32, St32 = Fem_1D(ndof, nodal_data2, nnodcon, eleconnect, fdof, lpf,shape_barln,load_barl)"
      ],
      "metadata": {
        "id": "DsLwscan3yKm"
      },
      "id": "DsLwscan3yKm",
      "execution_count": null,
      "outputs": []
    },
    {
      "cell_type": "code",
      "source": [
        "U32"
      ],
      "metadata": {
        "colab": {
          "base_uri": "https://localhost:8080/"
        },
        "id": "a9d_ocPk317C",
        "outputId": "8ffd39cd-9738-4d4e-eb32-58601fd4be2d"
      },
      "id": "a9d_ocPk317C",
      "execution_count": null,
      "outputs": [
        {
          "output_type": "execute_result",
          "data": {
            "text/plain": [
              "array([[0.00000000e+00],\n",
              "       [1.51324086e-05],\n",
              "       [3.76464799e-05],\n",
              "       [1.03580546e-04],\n",
              "       [1.69514612e-04]])"
            ]
          },
          "metadata": {},
          "execution_count": 47
        }
      ]
    },
    {
      "cell_type": "code",
      "source": [
        "pt.plot(nodal_data1[:, 1], U31, 'r--', label='FEM Solution 2 elements , ngauss=2')\n",
        "\n",
        "pt.plot(nodal_data2[:, 1],U32, 'g-', label='FEM Solution 4 elements, ngauss=2')\n",
        "pt.xlabel('Distance in x')\n",
        "pt.ylabel('Displacement at nodes')\n",
        "pt.legend()\n",
        "pt.grid('on')\n",
        "pt.show()"
      ],
      "metadata": {
        "colab": {
          "base_uri": "https://localhost:8080/",
          "height": 449
        },
        "id": "IPJvAm8LvGTy",
        "outputId": "df42d5f6-d231-4be9-9457-3d2475224d79"
      },
      "id": "IPJvAm8LvGTy",
      "execution_count": null,
      "outputs": [
        {
          "output_type": "display_data",
          "data": {
            "text/plain": [
              "<Figure size 640x480 with 1 Axes>"
            ],
            "image/png": "[encoded data removed]"
          },
          "metadata": {}
        }
      ]
    },
    {
      "cell_type": "code",
      "source": [
        "# Increasing number of elements to 4\n",
        "ndof, nnodcon = 1, 2\n",
        "\n",
        "L, kk = 5.5, 2\n",
        "nel = 2*kk\n",
        "\n",
        "#nodal_data = np.zeros([nel+1,2])\n",
        "#nodal_data[:,0] = np.linspace(0,nel,nel+1)\n",
        "#nodal_data[:,1] = np.linspace(0,L,nel+1)\n",
        "nodal_data3=np.array([[0,0],[1,1.25],[2,2.5],[3,4],[4,5.5]])\n",
        "xi=nodal_data3[:,1]\n",
        "# Define E, A\n",
        "E = np.array([200e3,200e3,70e3,70e3])  # in Mpa\n",
        "A= np.zeros(len(xi))\n",
        "for i in range(len(xi)):\n",
        "  A[i]=calculate_area(xi[i])\n",
        "\n",
        "eleconnect = np.zeros([nel,3*nnodcon+2])\n",
        "for i in range(nel):\n",
        "    eleconnect[i,0:3] = np.array([i, i, i+1]) # Element Number, Left Node, Right Node\n",
        "    eleconnect[i,3] = E[i]*A[i]; # EA at left node\n",
        "    eleconnect[i,4] = E[i]*A[i+1]; # EA at right node\n",
        "    eleconnect[i,7] = 2; # Gauss point\n",
        "\n",
        "fdof = np.array([[0, 1, 0]]) # Bar fixed at left end\n",
        "                 #node, is_Y_fix, Y_val\n",
        "F = 1e3;\n",
        "lpf = np.array([[1, 2, 1000,0],[1,4,2000,0]]) # Point load applied at x=L\n"
      ],
      "metadata": {
        "id": "CxmTFE0avyT-"
      },
      "id": "CxmTFE0avyT-",
      "execution_count": null,
      "outputs": []
    },
    {
      "cell_type": "code",
      "source": [
        "blockPrint()\n",
        "U33, St33 = Fem_1D(ndof, nodal_data2, nnodcon, eleconnect, fdof, lpf,shape_barln,load_barl)"
      ],
      "metadata": {
        "id": "cnCZGcslv7hJ"
      },
      "id": "cnCZGcslv7hJ",
      "execution_count": null,
      "outputs": []
    },
    {
      "cell_type": "code",
      "source": [
        "pt.plot(nodal_data1[:, 1], U31, 'r--', label='FEM Solution 2 elements , ngauss=2')\n",
        "\n",
        "pt.plot(nodal_data2[:, 1],U32, 'g-', label='FEM Solution 4 elements, ngauss=2')\n",
        "pt.plot(nodal_data3[:, 1],U33, 'b-', label='FEM Solution 4 elements, ngauss=3')\n",
        "pt.xlabel('Distance in x')\n",
        "pt.ylabel('Displacement at nodes')\n",
        "pt.legend()\n",
        "pt.grid('on')\n",
        "pt.show()"
      ],
      "metadata": {
        "colab": {
          "base_uri": "https://localhost:8080/",
          "height": 449
        },
        "id": "Zn1RiD1jv_HQ",
        "outputId": "0b9c78e8-324b-42c3-e498-8d2583e1c0f0"
      },
      "id": "Zn1RiD1jv_HQ",
      "execution_count": null,
      "outputs": [
        {
          "output_type": "display_data",
          "data": {
            "text/plain": [
              "<Figure size 640x480 with 1 Axes>"
            ],
            "image/png": "[encoded data removed]"
          },
          "metadata": {}
        }
      ]
    },
    {
      "cell_type": "markdown",
      "source": [
        "##### Solution for ngauss =2 (green) and ngauss=2 (blue) coincides each other"
      ],
      "metadata": {
        "id": "SLVHFtTiwkkK"
      },
      "id": "SLVHFtTiwkkK"
    },
    {
      "cell_type": "markdown",
      "id": "ad69e5aa",
      "metadata": {
        "id": "ad69e5aa"
      },
      "source": [
        "## Data for Problem 4 : Heat conduction in a bar with temperature at one end and insulated tip"
      ]
    },
    {
      "cell_type": "code",
      "source": [
        "def shape_heatq(l,kA,ph):\n",
        "  K1= (ph*l/30)*np.array([[4,2,-1],[2,16,2],[-1,2,4]])\n",
        "  K2=(kA/(3*l))*np.array([[7,-8,1],[-8,16,-8],[1,-8,7]])\n",
        "  stiff =K1+K2\n",
        "  return stiff"
      ],
      "metadata": {
        "id": "JF4GXfT9cPJ2"
      },
      "id": "JF4GXfT9cPJ2",
      "execution_count": null,
      "outputs": []
    },
    {
      "cell_type": "code",
      "execution_count": null,
      "id": "785b7956",
      "metadata": {
        "id": "785b7956"
      },
      "outputs": [],
      "source": [
        "ndof, nnodcon = 1, 2\n",
        "L, kk = 0.05, 2\n",
        "nel = 2*kk\n",
        "nodal_data = np.zeros([nel+1, 2])\n",
        "for i in range(nel+1):\n",
        "    nodal_data[i, 0] = i\n",
        "    nodal_data[i, 1] = i*L/nel\n",
        "\n",
        "h, k, A, P = 20, 200, np.pi*1e-6/4, np.pi*1e-3\n",
        "eleconnect = np.zeros([nel, (1 + (nnodcon * 3) + 1)])\n",
        "for i in range(nel):\n",
        "    eleconnect[i, 0] = i\n",
        "    eleconnect[i, 1] = i\n",
        "    eleconnect[i, 2] = i + 1\n",
        "    eleconnect[i, 3:5] = k*A\n",
        "    eleconnect[i, 5:7] = h*P\n",
        "    eleconnect[i, 7] = 0\n",
        "\n",
        "To, Tinf = 300, 30\n",
        "fdof = np.array([[0, 1, To-Tinf]])\n",
        "                 # node, is_T_def(1),value_of_T\n",
        "lpf = np.array([[1,4,0]])\n",
        "            #type, node num , value(heat_flux=0)=> heat_flux is point load\n",
        "            # for type 2 , Node num , value(heat_generation)=> heat source term is similar to distributed load\n",
        "#U1, St1 = Fem_1D(ndof, nodal_data, nnodcon, eleconnect, fdof, lpf, shape_heatl, load_barln)"
      ]
    },
    {
      "cell_type": "code",
      "source": [
        "blockPrint()\n",
        "Thl1, Sth1 = Fem_1D(ndof, nodal_data, nnodcon, eleconnect, fdof, lpf, shape_heatl, load_barl)"
      ],
      "metadata": {
        "id": "_FOAow4Maufi"
      },
      "id": "_FOAow4Maufi",
      "execution_count": null,
      "outputs": []
    },
    {
      "cell_type": "code",
      "source": [
        "Thl1"
      ],
      "metadata": {
        "colab": {
          "base_uri": "https://localhost:8080/"
        },
        "id": "GKLvO1PibUR-",
        "outputId": "0b9a7b90-7505-4856-9fe5-d5427daf4647"
      },
      "id": "GKLvO1PibUR-",
      "execution_count": null,
      "outputs": [
        {
          "output_type": "execute_result",
          "data": {
            "text/plain": [
              "array([[270.        ],\n",
              "       [226.36729603],\n",
              "       [197.03147391],\n",
              "       [180.13974488],\n",
              "       [174.62526289]])"
            ]
          },
          "metadata": {},
          "execution_count": 55
        }
      ]
    },
    {
      "cell_type": "code",
      "execution_count": null,
      "metadata": {
        "id": "OecZpS0heOrj"
      },
      "outputs": [],
      "source": [
        "# FOR QUADRATIC\n",
        "nnodcon = 3; nel = kk;\n",
        "# nodal_data is the same as defined before.\n",
        "\n",
        "eleconnect = np.zeros([nel,1+nnodcon*3+1]);\n",
        "for i in range(nel):\n",
        "    eleconnect[i,0] = i;\n",
        "    eleconnect[i,1] = 2*i;\n",
        "    eleconnect[i,2] = 2*i+1;\n",
        "    eleconnect[i,3] = 2*i+2;\n",
        "    eleconnect[i,4:7] = k*A\n",
        "    eleconnect[i,7:10] = h*P;\n",
        "    eleconnect[i,10] = 3;\n",
        "\n",
        "#U2, St2 = Fem_1D(ndof, nodal_data, nnodcon, eleconnect, fdof, lpf, shape_barqn, shape_barqn)"
      ],
      "id": "OecZpS0heOrj"
    },
    {
      "cell_type": "code",
      "source": [
        "eleconnect"
      ],
      "metadata": {
        "colab": {
          "base_uri": "https://localhost:8080/"
        },
        "id": "H20joky2iKvq",
        "outputId": "3928e091-9dc3-4383-c4a6-2104a298ff1c"
      },
      "id": "H20joky2iKvq",
      "execution_count": null,
      "outputs": [
        {
          "output_type": "execute_result",
          "data": {
            "text/plain": [
              "array([[0.00000000e+00, 0.00000000e+00, 1.00000000e+00, 2.00000000e+00,\n",
              "        1.57079633e-04, 1.57079633e-04, 1.57079633e-04, 6.28318531e-02,\n",
              "        6.28318531e-02, 6.28318531e-02, 3.00000000e+00],\n",
              "       [1.00000000e+00, 2.00000000e+00, 3.00000000e+00, 4.00000000e+00,\n",
              "        1.57079633e-04, 1.57079633e-04, 1.57079633e-04, 6.28318531e-02,\n",
              "        6.28318531e-02, 6.28318531e-02, 3.00000000e+00]])"
            ]
          },
          "metadata": {},
          "execution_count": 57
        }
      ]
    },
    {
      "cell_type": "code",
      "source": [
        "Thq1, Stq = Fem_1D(ndof, nodal_data, nnodcon, eleconnect, fdof, lpf, shape_barqn, _)"
      ],
      "metadata": {
        "id": "o-Xb16hWfLrW"
      },
      "id": "o-Xb16hWfLrW",
      "execution_count": null,
      "outputs": []
    },
    {
      "cell_type": "code",
      "source": [
        "Thq1"
      ],
      "metadata": {
        "colab": {
          "base_uri": "https://localhost:8080/"
        },
        "id": "rToxV4P-jjWf",
        "outputId": "a776268f-94c1-4853-b5a7-3bc66ea4f828"
      },
      "id": "rToxV4P-jjWf",
      "execution_count": null,
      "outputs": [
        {
          "output_type": "execute_result",
          "data": {
            "text/plain": [
              "array([[270.        ],\n",
              "       [226.53164623],\n",
              "       [197.31056581],\n",
              "       [180.47037077],\n",
              "       [174.98051351]])"
            ]
          },
          "metadata": {},
          "execution_count": 59
        }
      ]
    },
    {
      "cell_type": "code",
      "execution_count": null,
      "id": "d78aefdb",
      "metadata": {
        "id": "d78aefdb",
        "colab": {
          "base_uri": "https://localhost:8080/",
          "height": 430
        },
        "outputId": "c776473e-e846-4fb2-dee9-6bfee348e422"
      },
      "outputs": [
        {
          "output_type": "display_data",
          "data": {
            "text/plain": [
              "<Figure size 640x480 with 1 Axes>"
            ],
            "image/png": "[encoded data removed]"
          },
          "metadata": {}
        }
      ],
      "source": [
        "m = np.sqrt(h*P/k/A);\n",
        "xi = np.linspace(0,L,100); T_ex = Tinf + (To-Tinf)*np.cosh(m*(L-xi))/np.cosh(m*L)\n",
        "pt.plot(xi,T_ex-30,c='b', label='Analytical Solution')\n",
        "\n",
        "pt.plot(nodal_data[:, 1], Thl1, 'r--', label='Linear FEM Solution')\n",
        "\n",
        "pt.plot(nodal_data[:, 1], Thq1, 'g-', label='Quadratic FEM Solution')\n",
        "pt.legend()\n",
        "pt.grid('on')\n",
        "pt.show()"
      ]
    },
    {
      "cell_type": "markdown",
      "id": "79b8417c",
      "metadata": {
        "id": "79b8417c"
      },
      "source": [
        "## Problem 5: Load vector for Robin BC and"
      ]
    },
    {
      "cell_type": "code",
      "source": [
        "# Using Two linear Elements\n",
        "ndof, nnodcon = 1, 2\n",
        "L, kk = 0.05, 1\n",
        "nel = 2*kk\n",
        "nodal_data = np.zeros([nel+1, 2])\n",
        "for i in range(nel+1):\n",
        "    nodal_data[i, 0] = i\n",
        "    nodal_data[i, 1] = i*L/nel\n",
        "\n",
        "h, k, A, P = 100, 50,np.pi*1e-4, np.pi*2e-2\n",
        "eleconnect = np.zeros([nel, (1 + (nnodcon * 3) + 1)])\n",
        "for i in range(nel):\n",
        "    eleconnect[i, 0] = i\n",
        "    eleconnect[i, 1] = i\n",
        "    eleconnect[i, 2] = i + 1\n",
        "    eleconnect[i, 3:5] = k*A\n",
        "    eleconnect[i, 5:7] = h*P\n",
        "    eleconnect[i, 7] = 0\n",
        "\n",
        "To, Tinf = 320, 20\n",
        "fdof = np.array([[0, 1, To-Tinf]]) # temp is defined at left end\n",
        "lpf = np.array([[3, nel, h*P]])\n",
        "                # BC type,node_num, value\n",
        "\n"
      ],
      "metadata": {
        "id": "wvBgFqoT_Vyc"
      },
      "id": "wvBgFqoT_Vyc",
      "execution_count": null,
      "outputs": []
    },
    {
      "cell_type": "code",
      "source": [
        "Th51,S51=Fem_1D(ndof, nodal_data, nnodcon, eleconnect, fdof, lpf, shape_heatl, _)"
      ],
      "metadata": {
        "id": "xUSq1P8q_-Gy"
      },
      "id": "xUSq1P8q_-Gy",
      "execution_count": null,
      "outputs": []
    },
    {
      "cell_type": "code",
      "source": [
        "Th51"
      ],
      "metadata": {
        "colab": {
          "base_uri": "https://localhost:8080/"
        },
        "id": "XYEP--Vz_gGu",
        "outputId": "8f7aaa60-9957-495e-b873-076432a6b16d"
      },
      "id": "XYEP--Vz_gGu",
      "execution_count": null,
      "outputs": [
        {
          "output_type": "execute_result",
          "data": {
            "text/plain": [
              "array([[300.        ],\n",
              "       [137.9688792 ],\n",
              "       [ 11.92963993]])"
            ]
          },
          "metadata": {},
          "execution_count": 63
        }
      ]
    },
    {
      "cell_type": "code",
      "source": [
        "# USing one Quadratic element\n",
        "nnodcon = 3; nel = 1;\n",
        "# nodal_data is the same as defined before.\n",
        "nodal_data = np.zeros([2+1, 2])\n",
        "for i in range(2+1):\n",
        "    nodal_data[i, 0] = i\n",
        "    nodal_data[i, 1] = i*L/2\n",
        "\n",
        "eleconnect = np.zeros([nel,1+nnodcon*3+1]);\n",
        "for i in range(nel):\n",
        "    eleconnect[i,0] = i;\n",
        "    eleconnect[i,1] = 2*i;\n",
        "    eleconnect[i,2] = 2*i+1;\n",
        "    eleconnect[i,3] = 2*i+2;\n",
        "    eleconnect[i,4:7] = k*A\n",
        "    eleconnect[i,7:10] = h*P;\n",
        "    eleconnect[i,10] = 3;\n",
        "\n",
        "To, Tinf = 320, 20\n",
        "fdof = np.array([[0, 1, To-Tinf]])\n",
        "lpf = np.array([[3, 2, h*P, -2]])"
      ],
      "metadata": {
        "id": "PhsAK-ymmzjS"
      },
      "id": "PhsAK-ymmzjS",
      "execution_count": null,
      "outputs": []
    },
    {
      "cell_type": "code",
      "source": [
        "Th52,S52=Fem_1D(ndof, nodal_data, nnodcon, eleconnect, fdof, lpf, shape_barqn, _)"
      ],
      "metadata": {
        "id": "aLm9XLYWHVHp"
      },
      "id": "aLm9XLYWHVHp",
      "execution_count": null,
      "outputs": []
    },
    {
      "cell_type": "code",
      "source": [
        "Th52"
      ],
      "metadata": {
        "colab": {
          "base_uri": "https://localhost:8080/"
        },
        "id": "c6_sUbyIHpra",
        "outputId": "f40993ec-9ae8-4d96-e79c-2b9e593db8f1"
      },
      "id": "c6_sUbyIHpra",
      "execution_count": null,
      "outputs": [
        {
          "output_type": "execute_result",
          "data": {
            "text/plain": [
              "array([[300.        ],\n",
              "       [138.27083704],\n",
              "       [ 11.99573485]])"
            ]
          },
          "metadata": {},
          "execution_count": 66
        }
      ]
    },
    {
      "cell_type": "code",
      "source": [
        "pt.plot(nodal_data[:, 1],Th51,c='b', label='Linear FEM Solution (2 elements)')\n",
        "\n",
        "pt.plot(nodal_data[:, 1], Th52, 'r--', label='Quadratic FEM Solution (1 element)')\n",
        "\n",
        "pt.legend()\n",
        "pt.grid('on')\n",
        "pt.show()"
      ],
      "metadata": {
        "colab": {
          "base_uri": "https://localhost:8080/",
          "height": 430
        },
        "id": "KXvW95vSKwU1",
        "outputId": "4ff26c84-dc13-4a26-b15a-d765dd055215"
      },
      "id": "KXvW95vSKwU1",
      "execution_count": null,
      "outputs": [
        {
          "output_type": "display_data",
          "data": {
            "text/plain": [
              "<Figure size 640x480 with 1 Axes>"
            ],
            "image/png": "[encoded data removed]"
          },
          "metadata": {}
        }
      ]
    },
    {
      "cell_type": "markdown",
      "source": [
        "# Problem 6 : Solution"
      ],
      "metadata": {
        "id": "ZkfzSqkwxTur"
      },
      "id": "ZkfzSqkwxTur"
    },
    {
      "cell_type": "code",
      "source": [
        "ndof, nnodcon = 1, 2\n",
        "L= 0.11\n",
        "nel = 3\n",
        "nodal_data = np.array([[0,0],[1,0.05],[2,0.085],[3,0.11]])\n",
        "k=np.array([50,30,70])\n",
        "h1=10\n",
        "h2=15\n",
        "A=1\n",
        "eleconnect = np.zeros([nel, (1 + (nnodcon * 3) + 1)])\n",
        "for i in range(nel):\n",
        "    eleconnect[i, 0] = i\n",
        "    eleconnect[i, 1] = i\n",
        "    eleconnect[i, 2] = i + 1\n",
        "    eleconnect[i, 3:5] = k[i]*A\n",
        "    eleconnect[i, 5:7] = 0\n",
        "    eleconnect[i, 7] = 0\n",
        "\n",
        "To, Tl = 100,35\n",
        "# Assume right node temp to be ambient so Theta at right node =0\n",
        "fdof = np.array([[0, 1, h1*100],[0,3,h2*35]])\n",
        "                 #node,Heat flux given or not, value\n",
        "lpf = np.array([[3, 0, h1, 1],[3,3,h2,1]])\n",
        "            #type, node num , value\n",
        "#U1, St1 = Fem_1D(ndof, nodal_data, nnodcon, eleconnect, fdof, lpf, shape_heatl, load_barln)"
      ],
      "metadata": {
        "id": "6GtL5vBvxSTU"
      },
      "id": "6GtL5vBvxSTU",
      "execution_count": null,
      "outputs": []
    },
    {
      "cell_type": "code",
      "source": [
        "eleconnect"
      ],
      "metadata": {
        "colab": {
          "base_uri": "https://localhost:8080/"
        },
        "id": "p52rIjdQ2qev",
        "outputId": "482febcc-2c3c-4253-911a-a27071ecc740"
      },
      "id": "p52rIjdQ2qev",
      "execution_count": null,
      "outputs": [
        {
          "output_type": "execute_result",
          "data": {
            "text/plain": [
              "array([[ 0.,  0.,  1., 50., 50.,  0.,  0.,  0.],\n",
              "       [ 1.,  1.,  2., 30., 30.,  0.,  0.,  0.],\n",
              "       [ 2.,  2.,  3., 70., 70.,  0.,  0.,  0.]])"
            ]
          },
          "metadata": {},
          "execution_count": 69
        }
      ]
    },
    {
      "cell_type": "code",
      "source": [
        "Th61, St61 = Fem_1D(ndof, nodal_data, nnodcon, eleconnect, fdof, lpf, shape_heatl, _)"
      ],
      "metadata": {
        "id": "Tc6vPDM31eFf"
      },
      "id": "Tc6vPDM31eFf",
      "execution_count": null,
      "outputs": []
    },
    {
      "cell_type": "code",
      "source": [
        "Th61"
      ],
      "metadata": {
        "colab": {
          "base_uri": "https://localhost:8080/"
        },
        "id": "rsceU8V_1r5q",
        "outputId": "6e4227a9-6dd8-416a-b805-a993c8b849fe"
      },
      "id": "rsceU8V_1r5q",
      "execution_count": null,
      "outputs": [
        {
          "output_type": "execute_result",
          "data": {
            "text/plain": [
              "array([[1000.        ],\n",
              "       [ 985.54714384],\n",
              "       [ 968.68547832],\n",
              "       [ 963.52374398]])"
            ]
          },
          "metadata": {},
          "execution_count": 71
        }
      ]
    },
    {
      "cell_type": "code",
      "source": [
        "pt.plot(nodal_data[:, 1], Th61, 'g--', label='FEM Solution for Temperature variation across walls')\n",
        "pt.xlabel('Distance')\n",
        "pt.ylabel('Temperature (absolute)')\n",
        "pt.legend()\n",
        "pt.grid('on')\n",
        "pt.show()"
      ],
      "metadata": {
        "colab": {
          "base_uri": "https://localhost:8080/",
          "height": 449
        },
        "id": "Z4wQvU3r3J62",
        "outputId": "81fda8d6-869b-4f42-c43b-898a7373b7b9"
      },
      "id": "Z4wQvU3r3J62",
      "execution_count": null,
      "outputs": [
        {
          "output_type": "display_data",
          "data": {
            "text/plain": [
              "<Figure size 640x480 with 1 Axes>"
            ],
            "image/png": "[encoded data removed]"
          },
          "metadata": {}
        }
      ]
    },
    {
      "cell_type": "markdown",
      "source": [
        "# Problem 7 ; Solution"
      ],
      "metadata": {
        "id": "w-51Biq1Nm5R"
      },
      "id": "w-51Biq1Nm5R"
    },
    {
      "cell_type": "code",
      "source": [
        "ndof, nnodcon = 2, 2\n",
        "\n",
        "# Unit length bar discretized with 5 elements\n",
        "L, nel = 1, 2\n",
        "\n",
        "# Create nodal data array\n",
        "nodal_data = np.zeros([nel+1, 2])\n",
        "for i in range(nel+1):\n",
        "    nodal_data[i, 0] = i\n",
        "    nodal_data[i, 1] = i*L/nel\n",
        "\n",
        "# Define Geometry parameters E,A\n",
        "E, I = 1, 1\n",
        "\n",
        "# Size of element connectivity array is 3*nnodcon+2\n",
        "eleconnect = np.zeros([nel, (1 + (nnodcon * 3) + 1)])\n",
        "for i in range(nel):\n",
        "    eleconnect[i, 0] = i       # Element Number\n",
        "    eleconnect[i, 1] = i       # Left node for element\n",
        "    eleconnect[i, 2] = i + 1   # Right node for element\n",
        "    eleconnect[i, 3] = E*I     # EA or the correct value at the left node\n",
        "    eleconnect[i, 4] = E*I     # EA or the correct value at the right node\n",
        "    eleconnect[i, 5] = 0       # hP or the correct value at the left node         # for conduction problem hp will be there\n",
        "    eleconnect[i, 6] = 0       # hP or the correct value at the right node\n",
        "    eleconnect[i, 7] = 2       # Gauss points for numerical integration\n",
        "\n",
        "# Fixed degrees of freedom for bar\n",
        "fixeddofs = np.array([[0  ,  1,  0,  0 , 0],[2,1,0,0,0]]) # SSB\n",
        "                      #node, Y(defined=1), theta(not defined=0), Y(defined_val is=0), theta(val_don't know=0), 0,0\n",
        "z = symbols('z')\n",
        "l1 =np.array([[ 2,0,sin(pi*(z+nodal_data[0,1])),2],[2,1,sin(pi*(z+nodal_data[1,1])),2]])\n",
        "           #type,element,  function for Dist. load at element,   ngauss\n"
      ],
      "metadata": {
        "id": "wfp_ngWuNl-y"
      },
      "id": "wfp_ngWuNl-y",
      "execution_count": null,
      "outputs": []
    },
    {
      "cell_type": "code",
      "source": [
        "blockPrint()\n",
        "U7, St7 = Fem_1D(ndof, nodal_data, nnodcon, eleconnect, fixeddofs, l1, shape_beamln,beam_load)"
      ],
      "metadata": {
        "colab": {
          "base_uri": "https://localhost:8080/"
        },
        "id": "MRtnGXI4nJ3G",
        "outputId": "aef3ea00-8c73-40e1-8440-359f7ce2ae16"
      },
      "id": "MRtnGXI4nJ3G",
      "execution_count": null,
      "outputs": [
        {
          "output_type": "stream",
          "name": "stderr",
          "text": [
            "<ipython-input-13-bbdcfd4b5491>:198: DeprecationWarning: Conversion of an array with ndim > 0 to a scalar is deprecated, and will error in future. Ensure you extract a single element from your array before performing this operation. (Deprecated NumPy 1.25.)\n",
            "  Uy[i]=U[2*i]\n",
            "<ipython-input-13-bbdcfd4b5491>:200: DeprecationWarning: Conversion of an array with ndim > 0 to a scalar is deprecated, and will error in future. Ensure you extract a single element from your array before performing this operation. (Deprecated NumPy 1.25.)\n",
            "  Us[i]=U[2*i+1]\n"
          ]
        }
      ]
    },
    {
      "cell_type": "code",
      "source": [
        "U7"
      ],
      "metadata": {
        "colab": {
          "base_uri": "https://localhost:8080/"
        },
        "id": "5eHAJEPKn2Rk",
        "outputId": "61edc179-0d34-420e-a093-6165b538340e"
      },
      "id": "5eHAJEPKn2Rk",
      "execution_count": null,
      "outputs": [
        {
          "output_type": "execute_result",
          "data": {
            "text/plain": [
              "array([[ 0.00000000e+00],\n",
              "       [ 3.20740917e-02],\n",
              "       [ 1.02948306e-02],\n",
              "       [-5.42101086e-19],\n",
              "       [ 0.00000000e+00],\n",
              "       [-3.20740917e-02]])"
            ]
          },
          "metadata": {},
          "execution_count": 75
        }
      ]
    },
    {
      "cell_type": "code",
      "source": [],
      "metadata": {
        "id": "YNbudW7e-c52"
      },
      "id": "YNbudW7e-c52",
      "execution_count": null,
      "outputs": []
    },
    {
      "cell_type": "code",
      "source": [
        "z=symbols('z')\n",
        "l=1\n",
        "Y_el=[]\n",
        "M_el=[]\n",
        "S_el=[]\n",
        "N=np.array([1-3*z**2/l**2+2*z**3/l**3,z-2*z**2/l+z**3/l**2,3*z**2/l**2-2*z**3/l**3,-z**2/l+z**3/l**2])\n",
        "for i in range(nel):\n",
        "  Y1 =np.dot(N,U7[(2*i):(2*i+4),0])\n",
        "  M1= E*I*(diff(Y1,z,2))\n",
        "  S1 = -E*I*(diff(Y1,z,3))\n",
        "  Y_el.append(Y1)\n",
        "  M_el.append(M1)\n",
        "  S_el.append(S1)"
      ],
      "metadata": {
        "id": "9VfAOzCPtlRN"
      },
      "id": "9VfAOzCPtlRN",
      "execution_count": null,
      "outputs": []
    },
    {
      "cell_type": "code",
      "source": [
        "x_val1 = np.arange(0, 0.51,0.5)\n",
        "pt.plot(x_val1, np.array([S_el[0],S_el[0]]))\n",
        "pt.plot(x_val1+0.5,np.array([S_el[1],S_el[1]]))\n",
        "pt.scatter(0,0)\n",
        "pt.scatter(1,0)\n",
        "pt.plot()\n",
        "pt.title('For 2-element Descretization')\n",
        "pt.xlabel('length')\n",
        "pt.ylabel('ShearForce')\n",
        "pt.grid(True)\n",
        "pt.show()"
      ],
      "metadata": {
        "colab": {
          "base_uri": "https://localhost:8080/",
          "height": 472
        },
        "id": "BM1j7QdOtveZ",
        "outputId": "306efca1-0e82-4e6b-87f3-83db26285a1b"
      },
      "id": "BM1j7QdOtveZ",
      "execution_count": null,
      "outputs": [
        {
          "output_type": "display_data",
          "data": {
            "text/plain": [
              "<Figure size 640x480 with 1 Axes>"
            ],
            "image/png": "[encoded data removed]"
          },
          "metadata": {}
        }
      ]
    },
    {
      "cell_type": "code",
      "source": [
        "x_val1 = np.arange(0, 1.1,0.1)\n",
        "y_val1 = [M_el[0].subs(z, val) for val in x_val1]\n",
        "y_val2 = [M_el[1].subs(z, val) for val in x_val1]\n",
        "pt.plot(x_val1, y_val1)\n",
        "pt.plot(x_val1+1,y_val2)\n",
        "pt.plot()\n",
        "pt.title('For 2-element Descretization')\n",
        "pt.xlabel('length')\n",
        "pt.ylabel('BMD')\n",
        "pt.grid(True)\n",
        "pt.show()"
      ],
      "metadata": {
        "colab": {
          "base_uri": "https://localhost:8080/",
          "height": 472
        },
        "id": "jwJFerwMuj7-",
        "outputId": "e4ef782e-2ca3-4937-da99-af486c30b494"
      },
      "id": "jwJFerwMuj7-",
      "execution_count": null,
      "outputs": [
        {
          "output_type": "display_data",
          "data": {
            "text/plain": [
              "<Figure size 640x480 with 1 Axes>"
            ],
            "image/png": "[encoded data removed]"
          },
          "metadata": {}
        }
      ]
    },
    {
      "cell_type": "code",
      "source": [
        "ndof, nnodcon = 2, 2\n",
        "\n",
        "# Unit length bar discretized with 4 elements\n",
        "L, nel = 1, 10\n",
        "\n",
        "# Create nodal data array\n",
        "nodal_data = np.zeros([nel+1, 2])\n",
        "for i in range(nel+1):\n",
        "    nodal_data[i, 0] = i\n",
        "    nodal_data[i, 1] = i*L/nel\n",
        "\n",
        "# Define Geometry parameters E,A\n",
        "E, I = 1, 1\n",
        "\n",
        "# Size of element connectivity array is 3*nnodcon+2\n",
        "eleconnect = np.zeros([nel, (1 + (nnodcon * 3) + 1)])\n",
        "for i in range(nel):\n",
        "    eleconnect[i, 0] = i       # Element Number\n",
        "    eleconnect[i, 1] = i       # Left node for element\n",
        "    eleconnect[i, 2] = i + 1   # Right node for element\n",
        "    eleconnect[i, 3] = E*I     # EA or the correct value at the left node\n",
        "    eleconnect[i, 4] = E*I     # EA or the correct value at the right node\n",
        "    eleconnect[i, 5] = 0       # hP or the correct value at the left node         # for conduction problem hp will be there\n",
        "    eleconnect[i, 6] = 0       # hP or the correct value at the right node\n",
        "    eleconnect[i, 7] = 2       # Gauss points for numerical integration\n",
        "\n",
        "# Fixed degrees of freedom for bar\n",
        "fixeddofs = np.array([[0  ,  1,  0,  0 , 0],[nel,1,0,0,0]]) # SSB\n",
        "                      #node, Y(defined=1), theta(not defined=0), Y(defined_val is=0), theta(val_don't know=0), 0,0\n",
        "z = symbols('z')\n",
        "l1 =[]\n",
        "for i in range(nel):\n",
        "  l1.append([2,i,sin(pi*(z+nodal_data[i,1])),2])\n",
        "l1=np.array(l1)\n",
        "#l1 =np.array([[ 2,0,sin(pi*(z+nodal_data[0,1])),2],[2,1,sin(pi*(z+nodal_data[1,1])),2],[2,2,sin(pi*(z+nodal_data[2,1])),2],[2,3,sin(pi*(z+nodal_data[3,1])),2]])\n",
        "           #type,element,  function,   ngauss\n"
      ],
      "metadata": {
        "id": "L466QCGk5LGm"
      },
      "id": "L466QCGk5LGm",
      "execution_count": null,
      "outputs": []
    },
    {
      "cell_type": "code",
      "source": [
        "nodal_data"
      ],
      "metadata": {
        "colab": {
          "base_uri": "https://localhost:8080/"
        },
        "id": "icMEC5kWswKS",
        "outputId": "07d0208e-0fe3-4e03-ec07-e38648846183"
      },
      "id": "icMEC5kWswKS",
      "execution_count": null,
      "outputs": [
        {
          "output_type": "execute_result",
          "data": {
            "text/plain": [
              "array([[ 0. ,  0. ],\n",
              "       [ 1. ,  0.1],\n",
              "       [ 2. ,  0.2],\n",
              "       [ 3. ,  0.3],\n",
              "       [ 4. ,  0.4],\n",
              "       [ 5. ,  0.5],\n",
              "       [ 6. ,  0.6],\n",
              "       [ 7. ,  0.7],\n",
              "       [ 8. ,  0.8],\n",
              "       [ 9. ,  0.9],\n",
              "       [10. ,  1. ]])"
            ]
          },
          "metadata": {},
          "execution_count": 80
        }
      ]
    },
    {
      "cell_type": "code",
      "source": [
        "blockPrint()\n",
        "U72, St72 = Fem_1D(ndof, nodal_data, nnodcon, eleconnect, fixeddofs, l1, shape_beamln,beam_load)"
      ],
      "metadata": {
        "colab": {
          "base_uri": "https://localhost:8080/"
        },
        "id": "EY-xw4vt5TO3",
        "outputId": "82b95d0c-de80-483f-aceb-133763aed216"
      },
      "id": "EY-xw4vt5TO3",
      "execution_count": null,
      "outputs": [
        {
          "output_type": "stream",
          "name": "stderr",
          "text": [
            "<ipython-input-13-bbdcfd4b5491>:198: DeprecationWarning: Conversion of an array with ndim > 0 to a scalar is deprecated, and will error in future. Ensure you extract a single element from your array before performing this operation. (Deprecated NumPy 1.25.)\n",
            "  Uy[i]=U[2*i]\n",
            "<ipython-input-13-bbdcfd4b5491>:200: DeprecationWarning: Conversion of an array with ndim > 0 to a scalar is deprecated, and will error in future. Ensure you extract a single element from your array before performing this operation. (Deprecated NumPy 1.25.)\n",
            "  Us[i]=U[2*i+1]\n"
          ]
        }
      ]
    },
    {
      "cell_type": "code",
      "source": [
        "U72"
      ],
      "metadata": {
        "colab": {
          "base_uri": "https://localhost:8080/"
        },
        "id": "BPKBVU78tTR3",
        "outputId": "6db0c1ca-d963-43b4-af76-c21ec8800f55"
      },
      "id": "BPKBVU78tTR3",
      "execution_count": null,
      "outputs": [
        {
          "output_type": "execute_result",
          "data": {
            "text/plain": [
              "array([[ 0.00000000e+00],\n",
              "       [ 3.22513140e-02],\n",
              "       [ 3.17237036e-03],\n",
              "       [ 3.06728223e-02],\n",
              "       [ 6.03420701e-03],\n",
              "       [ 2.60918611e-02],\n",
              "       [ 8.30537343e-03],\n",
              "       [ 1.89568467e-02],\n",
              "       [ 9.76355203e-03],\n",
              "       [ 9.96620411e-03],\n",
              "       [ 1.02660061e-02],\n",
              "       [-4.93432455e-16],\n",
              "       [ 9.76355203e-03],\n",
              "       [-9.96620411e-03],\n",
              "       [ 8.30537343e-03],\n",
              "       [-1.89568467e-02],\n",
              "       [ 6.03420701e-03],\n",
              "       [-2.60918611e-02],\n",
              "       [ 3.17237036e-03],\n",
              "       [-3.06728223e-02],\n",
              "       [ 0.00000000e+00],\n",
              "       [-3.22513140e-02]])"
            ]
          },
          "metadata": {},
          "execution_count": 82
        }
      ]
    },
    {
      "cell_type": "code",
      "source": [
        "z=symbols('z')\n",
        "l=L/nel\n",
        "Y_el1=[]\n",
        "M_el1=[]\n",
        "S_el1=[]\n",
        "N=np.array([1-3*z**2/l**2+2*z**3/l**3,z-2*z**2/l+z**3/l**2,3*z**2/l**2-2*z**3/l**3,-z**2/l+z**3/l**2])\n",
        "for i in range(nel):\n",
        "  Y1 =np.dot(N,U72[(2*i):(2*i+4),0])\n",
        "  M1= E*I*(diff(Y1,z,2))\n",
        "  S1 = -E*I*(diff(Y1,z,3))\n",
        "  Y_el1.append(Y1)\n",
        "  M_el1.append(M1)\n",
        "  S_el1.append(S1)"
      ],
      "metadata": {
        "id": "wOYFHmVQ5977"
      },
      "id": "wOYFHmVQ5977",
      "execution_count": null,
      "outputs": []
    },
    {
      "cell_type": "code",
      "source": [
        "M_el1"
      ],
      "metadata": {
        "colab": {
          "base_uri": "https://localhost:8080/"
        },
        "id": "r7iYE0QcAhyx",
        "outputId": "e1cd864f-08d6-4626-ffa7-a9f5df04d01c"
      },
      "id": "r7iYE0QcAhyx",
      "execution_count": null,
      "outputs": [
        {
          "output_type": "execute_result",
          "data": {
            "text/plain": [
              "[-(0.313962545086453*z + 8.67893460874125e-5),\n",
              " -(0.283229703667718*z + 0.031648127000994),\n",
              " -(0.224772365476578*z + 0.0601115254795788),\n",
              " -(0.144312742071443*z + 0.0826907890226053),\n",
              " -(0.0497267819863628*z + 0.0971757019954839),\n",
              " 0.0497267819863672*z - 0.102148380194124,\n",
              " 0.144312742071457*z - 0.0971220632297434,\n",
              " 0.224772365476599*z - 0.0825887620272322,\n",
              " 0.283229703667702*z - 0.0599710973677509,\n",
              " 0.313962545086443*z - 0.0314830438547202]"
            ]
          },
          "metadata": {},
          "execution_count": 84
        }
      ]
    },
    {
      "cell_type": "code",
      "source": [
        "x_val1 = np.arange(0, 0.251,0.25)\n",
        "pt.plot(x_val1, np.array([S_el1[0],S_el1[0]]))\n",
        "pt.plot(x_val1+0.25,np.array([S_el1[1],S_el1[1]]))\n",
        "pt.plot(x_val1+0.5,np.array([S_el1[2],S_el1[2]]))\n",
        "pt.plot(x_val1+0.75,np.array([S_el1[3],S_el1[3]]))\n",
        "pt.scatter(0,0)\n",
        "pt.scatter(1,0)\n",
        "pt.plot()\n",
        "pt.title('For 4-element Descretization')\n",
        "pt.xlabel('length')\n",
        "pt.ylabel('ShearForce Diagram')\n",
        "pt.grid(True)\n",
        "pt.show()"
      ],
      "metadata": {
        "colab": {
          "base_uri": "https://localhost:8080/",
          "height": 472
        },
        "id": "-GIrTDrG6DJA",
        "outputId": "672c2857-008d-4c89-8cbf-a26b7906e1f9"
      },
      "id": "-GIrTDrG6DJA",
      "execution_count": null,
      "outputs": [
        {
          "output_type": "display_data",
          "data": {
            "text/plain": [
              "<Figure size 640x480 with 1 Axes>"
            ],
            "image/png": "[encoded data removed]"
          },
          "metadata": {}
        }
      ]
    },
    {
      "cell_type": "code",
      "source": [
        "U7y=np.zeros(nel+1)\n",
        "U7s = np.zeros(nel+1)\n",
        "for i in range(len(U7y)):\n",
        "  U7y[i]=U72[2*i]\n",
        "for i in range(len(U7s)):\n",
        "  U7s[i]=U72[2*i+1]"
      ],
      "metadata": {
        "colab": {
          "base_uri": "https://localhost:8080/"
        },
        "id": "CRgg6fD3sDPL",
        "outputId": "66178f5d-c84a-4f44-9ec4-da22e692547b"
      },
      "id": "CRgg6fD3sDPL",
      "execution_count": null,
      "outputs": [
        {
          "output_type": "stream",
          "name": "stderr",
          "text": [
            "<ipython-input-86-fa2ff3a47938>:4: DeprecationWarning: Conversion of an array with ndim > 0 to a scalar is deprecated, and will error in future. Ensure you extract a single element from your array before performing this operation. (Deprecated NumPy 1.25.)\n",
            "  U7y[i]=U72[2*i]\n",
            "<ipython-input-86-fa2ff3a47938>:6: DeprecationWarning: Conversion of an array with ndim > 0 to a scalar is deprecated, and will error in future. Ensure you extract a single element from your array before performing this operation. (Deprecated NumPy 1.25.)\n",
            "  U7s[i]=U72[2*i+1]\n"
          ]
        }
      ]
    },
    {
      "cell_type": "code",
      "source": [
        "U7y"
      ],
      "metadata": {
        "colab": {
          "base_uri": "https://localhost:8080/"
        },
        "id": "DUwEJN3Q_R8p",
        "outputId": "1f041a94-559b-4252-c28e-accae3a81a63"
      },
      "id": "DUwEJN3Q_R8p",
      "execution_count": null,
      "outputs": [
        {
          "output_type": "execute_result",
          "data": {
            "text/plain": [
              "array([0.        , 0.00317237, 0.00603421, 0.00830537, 0.00976355,\n",
              "       0.01026601, 0.00976355, 0.00830537, 0.00603421, 0.00317237,\n",
              "       0.        ])"
            ]
          },
          "metadata": {},
          "execution_count": 87
        }
      ]
    },
    {
      "cell_type": "code",
      "source": [
        "pt.plot(nodal_data[:,1],U7y,c='b')\n",
        "pt.plot(nodal_data[:,1],U7s,c='orange')\n",
        "pt.legend()"
      ],
      "metadata": {
        "colab": {
          "base_uri": "https://localhost:8080/",
          "height": 485
        },
        "id": "HOfNCPXF-yP5",
        "outputId": "e0c44394-d2d7-46e3-e64f-5c5c3a60751f"
      },
      "id": "HOfNCPXF-yP5",
      "execution_count": null,
      "outputs": [
        {
          "output_type": "stream",
          "name": "stderr",
          "text": [
            "WARNING:matplotlib.legend:No artists with labels found to put in legend.  Note that artists whose label start with an underscore are ignored when legend() is called with no argument.\n"
          ]
        },
        {
          "output_type": "execute_result",
          "data": {
            "text/plain": [
              "<matplotlib.legend.Legend at 0x7a9a8b615c30>"
            ]
          },
          "metadata": {},
          "execution_count": 88
        },
        {
          "output_type": "display_data",
          "data": {
            "text/plain": [
              "<Figure size 640x480 with 1 Axes>"
            ],
            "image/png": "[encoded data removed]"
          },
          "metadata": {}
        }
      ]
    },
    {
      "cell_type": "code",
      "source": [
        "y2=[]\n",
        "for i in range(len(U7s)-1):\n",
        "  e = (U7s[i+1]-U7s[i])/(nodal_data[i+1,1]-nodal_data[i,1])  # TO get strains St\n",
        "  y2.append(e)\n",
        "y2=np.array(y2)"
      ],
      "metadata": {
        "id": "j1fiSKr5sqJB"
      },
      "id": "j1fiSKr5sqJB",
      "execution_count": null,
      "outputs": []
    },
    {
      "cell_type": "code",
      "source": [
        "y2*2e5"
      ],
      "metadata": {
        "colab": {
          "base_uri": "https://localhost:8080/"
        },
        "id": "gAP1ezaOGiRr",
        "outputId": "e87a0f1b-8c72-4adb-c1bc-9c75004c0603"
      },
      "id": "gAP1ezaOGiRr",
      "execution_count": null,
      "outputs": [
        {
          "output_type": "execute_result",
          "data": {
            "text/plain": [
              "array([ -3156.98332008,  -9161.92243688, -14270.02875068, -17981.28522524,\n",
              "       -19932.40821896, -19932.40821896, -17981.28522523, -14270.02875068,\n",
              "        -9161.92243687,  -3156.98332008])"
            ]
          },
          "metadata": {},
          "execution_count": 90
        }
      ]
    },
    {
      "cell_type": "code",
      "source": [
        "M=y2*E*I"
      ],
      "metadata": {
        "id": "g1cOtVXBuC58"
      },
      "id": "g1cOtVXBuC58",
      "execution_count": null,
      "outputs": []
    },
    {
      "cell_type": "code",
      "source": [
        "y2"
      ],
      "metadata": {
        "colab": {
          "base_uri": "https://localhost:8080/"
        },
        "id": "2XaI97M2vF9r",
        "outputId": "17d9f7ca-32a4-4bdf-be67-91bd754ff856"
      },
      "id": "2XaI97M2vF9r",
      "execution_count": null,
      "outputs": [
        {
          "output_type": "execute_result",
          "data": {
            "text/plain": [
              "array([-0.01578492, -0.04580961, -0.07135014, -0.08990643, -0.09966204,\n",
              "       -0.09966204, -0.08990643, -0.07135014, -0.04580961, -0.01578492])"
            ]
          },
          "metadata": {},
          "execution_count": 92
        }
      ]
    },
    {
      "cell_type": "code",
      "source": [
        "for i in range(len(M)):\n",
        "  x_val1 = np.arange(nodal_data[i,1], nodal_data[i+1,1]+0.001,nodal_data[i+1,1]-nodal_data[i,1])\n",
        "  pt.plot(x_val1, np.array([M[i],M[i]]))# ,label=\"Stress in Element by FEM\")\n",
        "pt.legend()\n",
        "pt.grid('on')\n",
        "pt.show()"
      ],
      "metadata": {
        "colab": {
          "base_uri": "https://localhost:8080/",
          "height": 467
        },
        "id": "y1RWBKSbuFV-",
        "outputId": "83895ba2-564d-4683-cd9c-6a4c50bad68e"
      },
      "id": "y1RWBKSbuFV-",
      "execution_count": null,
      "outputs": [
        {
          "output_type": "stream",
          "name": "stderr",
          "text": [
            "WARNING:matplotlib.legend:No artists with labels found to put in legend.  Note that artists whose label start with an underscore are ignored when legend() is called with no argument.\n"
          ]
        },
        {
          "output_type": "display_data",
          "data": {
            "text/plain": [
              "<Figure size 640x480 with 1 Axes>"
            ],
            "image/png": "[encoded data removed]"
          },
          "metadata": {}
        }
      ]
    },
    {
      "cell_type": "code",
      "source": [
        "x_val1 = np.arange(0, L/nel+0.001,0.01)\n",
        "for i in range(nel):\n",
        "  y_val1 = [M_el1[i].subs(z, val) for val in x_val1]\n",
        "  pt.plot(x_val1+(L/nel)*i, y_val1)\n",
        "  #y_val2 = [M_el1[1].subs(z, val) for val in x_val1]\n",
        "  #y_val3 = [M_el1[2].subs(z, val) for val in x_val1]\n",
        "  #y_val4 = [M_el1[3].subs(z, val) for val in x_val1]\n",
        "#pt.plot(x_val1, y_val1)\n",
        "#pt.plot(x_val1+0.5,y_val3)\n",
        "#pt.plot(x_val1+0.75,y_val4)\n",
        "#pt.plot()\n",
        "pt.title('For 2-element Descretization')\n",
        "pt.xlabel('length')\n",
        "pt.ylabel('BMD')\n",
        "pt.grid(True)\n",
        "pt.show()"
      ],
      "metadata": {
        "colab": {
          "base_uri": "https://localhost:8080/",
          "height": 472
        },
        "id": "m1m_uKDRGUxG",
        "outputId": "b52d4c6b-7cd3-4989-a1c7-6040d4d1ce3b"
      },
      "id": "m1m_uKDRGUxG",
      "execution_count": null,
      "outputs": [
        {
          "output_type": "display_data",
          "data": {
            "text/plain": [
              "<Figure size 640x480 with 1 Axes>"
            ],
            "image/png": "[encoded data removed]"
          },
          "metadata": {}
        }
      ]
    },
    {
      "cell_type": "markdown",
      "source": [
        "#Problem 8 Solution -"
      ],
      "metadata": {
        "id": "SyAmV00up1At"
      },
      "id": "SyAmV00up1At"
    },
    {
      "cell_type": "code",
      "source": [
        "# Choosing Linear Bar Element\n",
        "ndof, nnodcon = 2, 2\n",
        "\n",
        "# Unit length bar discretized with 5 elements\n",
        "L, nel = 5, 5\n",
        "\n",
        "# Create nodal data array\n",
        "nodal_data = np.zeros([nel+1, 2])\n",
        "for i in range(nel+1):\n",
        "    nodal_data[i, 0] = i\n",
        "    nodal_data[i, 1] = i*L/nel\n",
        "\n",
        "# Define Geometry parameters E,A\n",
        "E, I = 2e11, 5e-9\n",
        "\n",
        "# Size of element connectivity array is 3*nnodcon+2\n",
        "eleconnect = np.zeros([nel, (1 + (nnodcon * 3) + 1)])\n",
        "for i in range(nel):\n",
        "    eleconnect[i, 0] = i       # Element Number\n",
        "    eleconnect[i, 1] = i       # Left node for element\n",
        "    eleconnect[i, 2] = i + 1   # Right node for element\n",
        "    eleconnect[i, 3] = E*I     # EA or the correct value at the left node\n",
        "    eleconnect[i, 4] = E*I     # EA or the correct value at the right node\n",
        "    eleconnect[i, 5] = 0       # hP or the correct value at the left node         # for conduction problem hp will be there\n",
        "    eleconnect[i, 6] = 0       # hP or the correct value at the right node\n",
        "    eleconnect[i, 7] = 2       # Gauss points for numerical integration\n",
        "\n",
        "# Fixed degrees of freedom for bar\n",
        "fixeddofs = np.array([[0 , 1, 0,  0 , 0],[1,0,0,0,0],[2,1,0,0,0],[3,1,0,0,0],[4,0,0,0,0],[5,1,0,0,0]])\n",
        "l1 =np.array([[1,1,1000,0],[2,3,12000,2],[2,4,12000,2]])"
      ],
      "metadata": {
        "id": "DR4TNg6ep0Vf"
      },
      "id": "DR4TNg6ep0Vf",
      "execution_count": null,
      "outputs": []
    },
    {
      "cell_type": "code",
      "source": [
        "blockPrint()\n",
        "U8, St8 = Fem_1D(ndof, nodal_data, nnodcon, eleconnect, fixeddofs, l1, shape_beamln,beam_load)"
      ],
      "metadata": {
        "colab": {
          "base_uri": "https://localhost:8080/"
        },
        "id": "Ti6DGi5O3Ukw",
        "outputId": "1e6c299b-fdec-4387-979a-1a2ea5b65e7b"
      },
      "id": "Ti6DGi5O3Ukw",
      "execution_count": null,
      "outputs": [
        {
          "output_type": "stream",
          "name": "stderr",
          "text": [
            "<ipython-input-13-bbdcfd4b5491>:198: DeprecationWarning: Conversion of an array with ndim > 0 to a scalar is deprecated, and will error in future. Ensure you extract a single element from your array before performing this operation. (Deprecated NumPy 1.25.)\n",
            "  Uy[i]=U[2*i]\n",
            "<ipython-input-13-bbdcfd4b5491>:200: DeprecationWarning: Conversion of an array with ndim > 0 to a scalar is deprecated, and will error in future. Ensure you extract a single element from your array before performing this operation. (Deprecated NumPy 1.25.)\n",
            "  Us[i]=U[2*i+1]\n"
          ]
        }
      ]
    },
    {
      "cell_type": "code",
      "source": [
        "U8"
      ],
      "metadata": {
        "colab": {
          "base_uri": "https://localhost:8080/"
        },
        "id": "2JzusIaE6jsw",
        "outputId": "8057c22c-d9bb-425f-dbcd-1c0433cd1b30"
      },
      "id": "2JzusIaE6jsw",
      "execution_count": null,
      "outputs": [
        {
          "output_type": "execute_result",
          "data": {
            "text/plain": [
              "array([[ 0.        ],\n",
              "       [ 0.39285714],\n",
              "       [ 0.27380952],\n",
              "       [ 0.03571429],\n",
              "       [ 0.        ],\n",
              "       [-0.53571429],\n",
              "       [ 0.        ],\n",
              "       [ 1.28571429],\n",
              "       [ 1.48214286],\n",
              "       [ 0.33928571],\n",
              "       [ 0.        ],\n",
              "       [-2.64285714]])"
            ]
          },
          "metadata": {},
          "execution_count": 97
        }
      ]
    },
    {
      "cell_type": "code",
      "source": [
        "z=symbols('z')\n",
        "l=1\n",
        "Y_el=[]\n",
        "M_el=[]\n",
        "S_el=[]\n",
        "N=np.array([1-3*z**2/l**2+2*z**3/l**3,z-2*z**2/l+z**3/l**2,3*z**2/l**2-2*z**3/l**3,-z**2/l+z**3/l**2])\n",
        "for i in range(nel):\n",
        "  Y1 =np.dot(N,U8[(2*i):(2*i+4),0])\n",
        "  M1=E*I*(diff(Y1,z,2))\n",
        "  S1 = -E*I*(diff(Y1,z,3))\n",
        "  Y_el.append(Y1)\n",
        "  M_el.append(M1)\n",
        "  S_el.append(S1)"
      ],
      "metadata": {
        "id": "liF6k9529IQo"
      },
      "id": "liF6k9529IQo",
      "execution_count": null,
      "outputs": []
    },
    {
      "cell_type": "code",
      "source": [
        "x_val1 = np.arange(0, 1.1,1)\n",
        "pt.plot(x_val1, np.array([S_el[0],S_el[0]]))\n",
        "pt.plot(x_val1+1,np.array([S_el[1],S_el[1]]))\n",
        "pt.plot(x_val1+2,np.array([S_el[2],S_el[2]]))\n",
        "pt.plot(x_val1+3,np.array([S_el[4],S_el[4]]))\n",
        "pt.plot(x_val1+4,np.array([S_el[3],S_el[3]]))\n",
        "pt.scatter(0,0)\n",
        "pt.scatter(5,0)\n",
        "pt.title('For 5-element Descretization')\n",
        "pt.xlabel('length')\n",
        "pt.ylabel('ShearForce')\n",
        "pt.grid(True)\n",
        "pt.show()"
      ],
      "metadata": {
        "colab": {
          "base_uri": "https://localhost:8080/",
          "height": 472
        },
        "id": "0yoinMHk-R8D",
        "outputId": "733bb7fd-0dc9-4345-e8d9-d6ddeb3217b8"
      },
      "id": "0yoinMHk-R8D",
      "execution_count": null,
      "outputs": [
        {
          "output_type": "display_data",
          "data": {
            "text/plain": [
              "<Figure size 640x480 with 1 Axes>"
            ],
            "image/png": "[encoded data removed]"
          },
          "metadata": {}
        }
      ]
    },
    {
      "cell_type": "code",
      "source": [
        "np.array(S_el).sum() # Shear Force Sums upto Zero"
      ],
      "metadata": {
        "colab": {
          "base_uri": "https://localhost:8080/",
          "height": 37
        },
        "id": "2HMfCbUTpd6S",
        "outputId": "9fcabe76-892a-45a7-e339-14e1308d2674"
      },
      "id": "2HMfCbUTpd6S",
      "execution_count": null,
      "outputs": [
        {
          "output_type": "execute_result",
          "data": {
            "text/plain": [
              "3.63797880709171e-12"
            ],
            "text/latex": "$\\displaystyle 3.63797880709171 \\cdot 10^{-12}$"
          },
          "metadata": {},
          "execution_count": 100
        }
      ]
    },
    {
      "cell_type": "code",
      "source": [
        "# Choosing Linear Bar Element\n",
        "ndof, nnodcon = 2, 2\n",
        "\n",
        "# Unit length bar discretized with 5 elements\n",
        "L, nel = 5, 10\n",
        "\n",
        "# Create nodal data array\n",
        "nodal_data = np.zeros([nel+1, 2])\n",
        "for i in range(nel+1):\n",
        "    nodal_data[i, 0] = i\n",
        "    nodal_data[i, 1] = i*L/nel\n",
        "\n",
        "# Define Geometry parameters E,A\n",
        "E, I = 2e11, 5e-9\n",
        "\n",
        "# Size of element connectivity array is 3*nnodcon+2\n",
        "eleconnect = np.zeros([nel, (1 + (nnodcon * 3) + 1)])\n",
        "for i in range(nel):\n",
        "    eleconnect[i, 0] = i       # Element Number\n",
        "    eleconnect[i, 1] = i       # Left node for element\n",
        "    eleconnect[i, 2] = i + 1   # Right node for element\n",
        "    eleconnect[i, 3] = E*I     # EA or the correct value at the left node\n",
        "    eleconnect[i, 4] = E*I     # EA or the correct value at the right node\n",
        "    eleconnect[i, 5] = 0       # hP or the correct value at the left node         # for conduction problem hp will be there\n",
        "    eleconnect[i, 6] = 0       # hP or the correct value at the right node\n",
        "    eleconnect[i, 7] = 2       # Gauss points for numerical integration\n",
        "\n",
        "# Fixed degrees of freedom for bar\n",
        "fixeddofs = np.array([[0 , 1, 0,  0 , 0],[1,0,0,0,0],[4,1,0,0,0],[6,1,0,0,0],[8,0,0,0,0],[10,1,0,0,0]])\n",
        "l1 =np.array([[1,1,1000,0],[2,6,12000,2],[2,7,12000,2],[2,8,12000,2],[2,9,12000,2]])"
      ],
      "metadata": {
        "id": "vaTH2rnPqFDQ"
      },
      "id": "vaTH2rnPqFDQ",
      "execution_count": null,
      "outputs": []
    },
    {
      "cell_type": "code",
      "source": [
        "blockPrint()\n",
        "U82, St82 = Fem_1D(ndof, nodal_data, nnodcon, eleconnect, fixeddofs, l1, shape_beamln,beam_load)"
      ],
      "metadata": {
        "colab": {
          "base_uri": "https://localhost:8080/"
        },
        "id": "EtyDNQbTq7cI",
        "outputId": "1714a37e-fa02-4eaa-a5de-ee2a57a31a72"
      },
      "id": "EtyDNQbTq7cI",
      "execution_count": null,
      "outputs": [
        {
          "output_type": "stream",
          "name": "stderr",
          "text": [
            "<ipython-input-13-bbdcfd4b5491>:198: DeprecationWarning: Conversion of an array with ndim > 0 to a scalar is deprecated, and will error in future. Ensure you extract a single element from your array before performing this operation. (Deprecated NumPy 1.25.)\n",
            "  Uy[i]=U[2*i]\n",
            "<ipython-input-13-bbdcfd4b5491>:200: DeprecationWarning: Conversion of an array with ndim > 0 to a scalar is deprecated, and will error in future. Ensure you extract a single element from your array before performing this operation. (Deprecated NumPy 1.25.)\n",
            "  Us[i]=U[2*i+1]\n"
          ]
        }
      ]
    },
    {
      "cell_type": "code",
      "source": [
        "U82"
      ],
      "metadata": {
        "colab": {
          "base_uri": "https://localhost:8080/"
        },
        "id": "iPObMm04q-81",
        "outputId": "fae6bf2e-253b-4765-bf91-43249fd6ae07"
      },
      "id": "iPObMm04q-81",
      "execution_count": null,
      "outputs": [
        {
          "output_type": "execute_result",
          "data": {
            "text/plain": [
              "array([[ 0.        ],\n",
              "       [ 0.39375   ],\n",
              "       [ 0.17578125],\n",
              "       [ 0.2671875 ],\n",
              "       [ 0.24583333],\n",
              "       [ 0.0125    ],\n",
              "       [ 0.18776042],\n",
              "       [-0.2453125 ],\n",
              "       [ 0.        ],\n",
              "       [-0.50625   ],\n",
              "       [-0.22265625],\n",
              "       [-0.1921875 ],\n",
              "       [ 0.        ],\n",
              "       [ 1.275     ],\n",
              "       [ 0.88710937],\n",
              "       [ 1.81328125],\n",
              "       [ 1.478125  ],\n",
              "       [ 0.340625  ],\n",
              "       [ 1.14257812],\n",
              "       [-1.64296875],\n",
              "       [ 0.        ],\n",
              "       [-2.6375    ]])"
            ]
          },
          "metadata": {},
          "execution_count": 103
        }
      ]
    },
    {
      "cell_type": "code",
      "source": [
        "z=symbols('z')\n",
        "l=1\n",
        "Y_el=[]\n",
        "M_el=[]\n",
        "S_el=[]\n",
        "N=np.array([1-3*z**2/l**2+2*z**3/l**3,z-2*z**2/l+z**3/l**2,3*z**2/l**2-2*z**3/l**3,-z**2/l+z**3/l**2])\n",
        "for i in range(nel):\n",
        "  Y1 =np.dot(N,U82[(2*i):(2*i+4),0])\n",
        "  M1=E*I*(diff(Y1,z,2))\n",
        "  S1 = -E*I*(diff(Y1,z,3))\n",
        "  Y_el.append(Y1)\n",
        "  M_el.append(M1)\n",
        "  S_el.append(S1)"
      ],
      "metadata": {
        "id": "5WsoUXG6rKNX"
      },
      "id": "5WsoUXG6rKNX",
      "execution_count": null,
      "outputs": []
    },
    {
      "cell_type": "code",
      "source": [
        "x_val1 = np.arange(0, 1.1,1)\n",
        "pt.plot(x_val1, np.array([S_el[0],S_el[0]]))\n",
        "pt.plot(x_val1+1,np.array([S_el[1],S_el[1]]))\n",
        "pt.plot(x_val1+2,np.array([S_el[2],S_el[2]]))\n",
        "pt.plot(x_val1+3,np.array([S_el[3],S_el[3]]))\n",
        "pt.plot(x_val1+4,np.array([S_el[4],S_el[4]]))\n",
        "pt.plot(x_val1+5,np.array([S_el[5],S_el[5]]))\n",
        "pt.plot(x_val1+6,np.array([S_el[6],S_el[6]]))\n",
        "pt.plot(x_val1+7,np.array([S_el[7],S_el[7]]))\n",
        "pt.plot(x_val1+8,np.array([S_el[8],S_el[8]]))\n",
        "pt.plot(x_val1+9,np.array([S_el[9],S_el[9]]))\n",
        "pt.scatter(0,0)\n",
        "pt.scatter(10,0)\n",
        "pt.plot()\n",
        "pt.title('For 10-element Descretization')\n",
        "pt.xlabel('length')\n",
        "pt.ylabel('ShearForce')\n",
        "pt.grid(True)\n",
        "pt.show()"
      ],
      "metadata": {
        "colab": {
          "base_uri": "https://localhost:8080/",
          "height": 472
        },
        "id": "DiDn2AtorQ7S",
        "outputId": "abd1178f-cac1-4e1a-f150-9faa1cac2efe"
      },
      "id": "DiDn2AtorQ7S",
      "execution_count": null,
      "outputs": [
        {
          "output_type": "display_data",
          "data": {
            "text/plain": [
              "<Figure size 640x480 with 1 Axes>"
            ],
            "image/png": "[encoded data removed]"
          },
          "metadata": {}
        }
      ]
    },
    {
      "cell_type": "markdown",
      "source": [
        "### For 10 elements We can observe some clarity for SFD, given by our solution"
      ],
      "metadata": {
        "id": "yYgH1jOqslnj"
      },
      "id": "yYgH1jOqslnj"
    },
    {
      "cell_type": "markdown",
      "id": "1914a2a0",
      "metadata": {
        "id": "1914a2a0"
      },
      "source": [
        "# Data for Problem 9 and Solution"
      ]
    },
    {
      "cell_type": "code",
      "source": [
        "import matplotlib.pyplot as pt"
      ],
      "metadata": {
        "id": "KqYBRtfdS2o9"
      },
      "id": "KqYBRtfdS2o9",
      "execution_count": null,
      "outputs": []
    },
    {
      "cell_type": "code",
      "execution_count": null,
      "id": "a7a5a7a5",
      "metadata": {
        "id": "a7a5a7a5",
        "colab": {
          "base_uri": "https://localhost:8080/",
          "height": 430
        },
        "outputId": "6e80715a-1344-428d-8762-ae2b12fc0f54"
      },
      "outputs": [
        {
          "output_type": "display_data",
          "data": {
            "text/plain": [
              "<Figure size 640x480 with 1 Axes>"
            ],
            "image/png": "[encoded data removed]"
          },
          "metadata": {}
        }
      ],
      "source": [
        "E, I = 3e7, 4.5\n",
        "a1, a2 = -201496/729, 43504/81;\n",
        "b1, b2, b3, b4 = -143176/729, 8944/81, 5120/3, -16384/3;\n",
        "c1, c2, c3, c4 = -500, 24000, -4554592/9, 6554368;\n",
        "\n",
        "s1 = lambda x : 1/E/I*(a2*x**2/2+a1*x**3/6+5/4*x**4-x**5/192)\n",
        "s2 = lambda x : 1/E/I*(b4+b3*x+b2*x**2/2+b1*x**3/6+5/6*x**4)\n",
        "s3 = lambda x : 1/E/I*(c4+c3*x+c2*x**2/2+c1*x**3/6)\n",
        "t = np.linspace(0,48,480)\n",
        "y = np.select([(t<=16),(t>16)*(t<=36),(t>36)],[s1(t), s2(t), s3(t)])\n",
        "pt.plot(t,y)\n",
        "pt.grid('on')\n",
        "pt.show()"
      ]
    },
    {
      "cell_type": "code",
      "source": [
        "# For 3 element Descretization"
      ],
      "metadata": {
        "id": "OH2syu2la4Rg"
      },
      "id": "OH2syu2la4Rg",
      "execution_count": null,
      "outputs": []
    },
    {
      "cell_type": "code",
      "source": [
        "# Choosing Linear Bar Element\n",
        "ndof, nnodcon = 2, 2\n",
        "\n",
        "# Unit length bar discretized with 5 elements\n",
        "L, nel = 48, 3\n",
        "\n",
        "# Create nodal data array\n",
        "#nodal_data = np.zeros([nel+1, 2])\n",
        "#for i in range(nel+1):\n",
        "#   nodal_data[i, 0] = i\n",
        "#   nodal_data[i, 1] = i*L/nel\n",
        "nodal_data = np.zeros([nel+1, 2])\n",
        "nodal_data[1,:]=np.array([1,16])\n",
        "nodal_data[2,:]=np.array([2,16+20])\n",
        "nodal_data[3,:]=np.array([3,16+20+12])\n",
        "\n",
        "# Define Geometry parameters E,A\n",
        "E, I = 30e6, 4.5\n",
        "\n",
        "# Size of element connectivity array is 3*nnodcon+2\n",
        "eleconnect = np.zeros([nel, (1 + (nnodcon * 3) + 1)])\n",
        "for i in range(nel):\n",
        "    eleconnect[i, 0] = i       # Element Number\n",
        "    eleconnect[i, 1] = i       # Left node for element\n",
        "    eleconnect[i, 2] = i + 1   # Right node for element\n",
        "    eleconnect[i, 3] = E*I     # EA or the correct value at the left node\n",
        "    eleconnect[i, 4] = E*I     # EA or the correct value at the right node\n",
        "    eleconnect[i, 5] = 0       # hP or the correct value at the left node         # for conduction problem hp will be there\n",
        "    eleconnect[i, 6] = 0       # hP or the correct value at the right node\n",
        "    eleconnect[i, 7] = 2       # Gauss points for numerical integration\n",
        "\n",
        "# Fixed degrees of freedom for bar\n",
        "fixeddofs = np.array([[0 , 1, 0,  0 , 0],[2,1,0,0,0]])\n",
        "z=symbols('z')\n",
        "l1 =np.array([[2,0,30*(1-z/48),2],[2,1,20,2],[1,3,500,0]])\n"
      ],
      "metadata": {
        "id": "qsZJExY6BN6q"
      },
      "id": "qsZJExY6BN6q",
      "execution_count": null,
      "outputs": []
    },
    {
      "cell_type": "code",
      "source": [
        "blockPrint()\n",
        "U9, St9 = Fem_1D(ndof, nodal_data, nnodcon, eleconnect, fixeddofs, l1, shape_beamln,beam_load)"
      ],
      "metadata": {
        "id": "2gMo6WKPEcdi",
        "colab": {
          "base_uri": "https://localhost:8080/"
        },
        "outputId": "6664c030-0ddc-4bd6-9acd-8f9626fa5322"
      },
      "id": "2gMo6WKPEcdi",
      "execution_count": null,
      "outputs": [
        {
          "output_type": "stream",
          "name": "stderr",
          "text": [
            "<ipython-input-13-bbdcfd4b5491>:198: DeprecationWarning: Conversion of an array with ndim > 0 to a scalar is deprecated, and will error in future. Ensure you extract a single element from your array before performing this operation. (Deprecated NumPy 1.25.)\n",
            "  Uy[i]=U[2*i]\n",
            "<ipython-input-13-bbdcfd4b5491>:200: DeprecationWarning: Conversion of an array with ndim > 0 to a scalar is deprecated, and will error in future. Ensure you extract a single element from your array before performing this operation. (Deprecated NumPy 1.25.)\n",
            "  Us[i]=U[2*i+1]\n"
          ]
        }
      ]
    },
    {
      "cell_type": "code",
      "source": [
        "U9"
      ],
      "metadata": {
        "colab": {
          "base_uri": "https://localhost:8080/"
        },
        "id": "jUx800wYZUs8",
        "outputId": "1423a86f-afcb-41c1-bc56-b59e3f3b68a1"
      },
      "id": "jUx800wYZUs8",
      "execution_count": null,
      "outputs": [
        {
          "output_type": "execute_result",
          "data": {
            "text/plain": [
              "array([[ 0.00000000e+00],\n",
              "       [ 4.78658741e-05],\n",
              "       [ 5.46258192e-06],\n",
              "       [-6.09955799e-05],\n",
              "       [ 0.00000000e+00],\n",
              "       [ 2.27618961e-04],\n",
              "       [ 4.86476086e-03],\n",
              "       [ 4.94285627e-04]])"
            ]
          },
          "metadata": {},
          "execution_count": 111
        }
      ]
    },
    {
      "cell_type": "code",
      "source": [
        "z=symbols('z')\n",
        "l=1\n",
        "Y_el1=[]\n",
        "M_el1=[]\n",
        "S_el1=[]\n",
        "N=np.array([1-3*z**2/l**2+2*z**3/l**3,z-2*z**2/l+z**3/l**2,3*z**2/l**2-2*z**3/l**3,-z**2/l+z**3/l**2])\n",
        "for i in range(3):\n",
        "  Y1 =np.dot(N,U9[(2*i):(2*i+4),0])\n",
        "  M1=E*I*(diff(Y1,z,2))\n",
        "  S1 = -E*I*(diff(Y1,z,3))\n",
        "  Y_el1.append(Y1)\n",
        "  M_el1.append(M1)\n",
        "  S_el1.append(S1)"
      ],
      "metadata": {
        "id": "XqQnv-pgaXbb"
      },
      "id": "XqQnv-pgaXbb",
      "execution_count": null,
      "outputs": []
    },
    {
      "cell_type": "code",
      "source": [
        "x_val1 = np.arange(0, 1.1,0.1)\n",
        "y_val1 = [Y_el1[0].subs(z, val) for val in x_val1]\n",
        "x_val2 = np.arange(0, 1.1,0.1)\n",
        "y_val2= [Y_el1[1].subs(z, val) for val in x_val2]\n",
        "x_val3 = np.arange(0, 1.1,0.1)\n",
        "y_val3= [Y_el1[2].subs(z, val) for val in x_val3]\n",
        "pt.plot(x_val1, y_val1)\n",
        "pt.plot(x_val2+1, y_val2)\n",
        "pt.plot(x_val3+2, y_val3)\n",
        "pt.plot()\n",
        "pt.title('For 2-element Descretization')\n",
        "pt.xlabel('length (noramlize), elements of different lengths are there')\n",
        "pt.ylabel('Displacement')\n",
        "pt.grid(True)\n",
        "pt.show()"
      ],
      "metadata": {
        "colab": {
          "base_uri": "https://localhost:8080/",
          "height": 472
        },
        "id": "oGgkjVwNZcFr",
        "outputId": "1f667c4b-65c4-47d8-dfc4-15460fcfef8a"
      },
      "id": "oGgkjVwNZcFr",
      "execution_count": null,
      "outputs": [
        {
          "output_type": "display_data",
          "data": {
            "text/plain": [
              "<Figure size 640x480 with 1 Axes>"
            ],
            "image/png": "[encoded data removed]"
          },
          "metadata": {}
        }
      ]
    },
    {
      "cell_type": "code",
      "source": [
        "# nodal data for 6 elements, 7 nodes\n",
        "nel =6\n",
        "nodal_data = np.zeros([nel+1, 2])\n",
        "nodal_data[1,:]=np.array([1,8])\n",
        "nodal_data[2,:]=np.array([2,8+8])\n",
        "nodal_data[3,:]=np.array([3,16+10])\n",
        "nodal_data[4,:]=np.array([4,16+10+10])\n",
        "nodal_data[5,:]=np.array([5,16+20+6])\n",
        "nodal_data[6,:]=np.array([6,16+20+6+6])\n",
        "\n",
        "# Define Geometry parameters E,A\n",
        "E, I = 30e6, 4.5\n",
        "\n",
        "# Size of element connectivity array is 3*nnodcon+2\n",
        "eleconnect = np.zeros([nel, (1 + (nnodcon * 3) + 1)])\n",
        "for i in range(nel):\n",
        "    eleconnect[i, 0] = i       # Element Number\n",
        "    eleconnect[i, 1] = i       # Left node for element\n",
        "    eleconnect[i, 2] = i + 1   # Right node for element\n",
        "    eleconnect[i, 3] = E*I     # EA or the correct value at the left node\n",
        "    eleconnect[i, 4] = E*I     # EA or the correct value at the right node\n",
        "    eleconnect[i, 5] = 0       # hP or the correct value at the left node         # for conduction problem hp will be there\n",
        "    eleconnect[i, 6] = 0       # hP or the correct value at the right node\n",
        "    eleconnect[i, 7] = 2       # Gauss points for numerical integration\n",
        "z=symbols('z')\n",
        "fixeddofs = np.array([[0 , 1, 0,  0 , 0],[4,1,0,0,0]])\n",
        "l1 =np.array([[2,0,30*(1-z/48),2],[2,1,30*(1-(z+nodal_data[1,1])/48),2],[2,2,20,2],[2,3,20,2],[1,6,500,0]])"
      ],
      "metadata": {
        "id": "vtmAo_SEai6i"
      },
      "id": "vtmAo_SEai6i",
      "execution_count": null,
      "outputs": []
    },
    {
      "cell_type": "code",
      "source": [
        "nodal_data"
      ],
      "metadata": {
        "colab": {
          "base_uri": "https://localhost:8080/"
        },
        "id": "rjTYWbEtmLCz",
        "outputId": "d1c5a15a-1862-4d5b-8bc3-213027b3f804"
      },
      "id": "rjTYWbEtmLCz",
      "execution_count": null,
      "outputs": [
        {
          "output_type": "execute_result",
          "data": {
            "text/plain": [
              "array([[ 0.,  0.],\n",
              "       [ 1.,  8.],\n",
              "       [ 2., 16.],\n",
              "       [ 3., 26.],\n",
              "       [ 4., 36.],\n",
              "       [ 5., 42.],\n",
              "       [ 6., 48.]])"
            ]
          },
          "metadata": {},
          "execution_count": 115
        }
      ]
    },
    {
      "cell_type": "code",
      "source": [
        "blockPrint()\n",
        "U92, St92 = Fem_1D(ndof, nodal_data, nnodcon, eleconnect, fixeddofs, l1, shape_beamln,beam_load)\n"
      ],
      "metadata": {
        "colab": {
          "base_uri": "https://localhost:8080/"
        },
        "id": "bYMrlBcUHi4V",
        "outputId": "ec8dca49-cdf0-47a4-a870-2447ef1d3510"
      },
      "id": "bYMrlBcUHi4V",
      "execution_count": null,
      "outputs": [
        {
          "output_type": "stream",
          "name": "stderr",
          "text": [
            "<ipython-input-13-bbdcfd4b5491>:198: DeprecationWarning: Conversion of an array with ndim > 0 to a scalar is deprecated, and will error in future. Ensure you extract a single element from your array before performing this operation. (Deprecated NumPy 1.25.)\n",
            "  Uy[i]=U[2*i]\n",
            "<ipython-input-13-bbdcfd4b5491>:200: DeprecationWarning: Conversion of an array with ndim > 0 to a scalar is deprecated, and will error in future. Ensure you extract a single element from your array before performing this operation. (Deprecated NumPy 1.25.)\n",
            "  Us[i]=U[2*i+1]\n"
          ]
        }
      ]
    },
    {
      "cell_type": "code",
      "source": [
        "St92"
      ],
      "metadata": {
        "colab": {
          "base_uri": "https://localhost:8080/"
        },
        "id": "ZN_t30CIN9Vn",
        "outputId": "6d1f16b7-869d-4ba9-b441-9e90602a29fa"
      },
      "id": "ZN_t30CIN9Vn",
      "execution_count": null,
      "outputs": [
        {
          "output_type": "execute_result",
          "data": {
            "text/plain": [
              "array([ 3.16537113e-05, -3.06782503e-05, -6.63709800e-05,  6.55906112e-05,\n",
              "        3.38613016e-04,  4.71946350e-04])"
            ]
          },
          "metadata": {},
          "execution_count": 117
        }
      ]
    },
    {
      "cell_type": "code",
      "source": [
        "U92"
      ],
      "metadata": {
        "colab": {
          "base_uri": "https://localhost:8080/"
        },
        "id": "twAvaytXYAvl",
        "outputId": "c160f20d-bf05-4a4c-beb1-41340e3fed48"
      },
      "id": "twAvaytXYAvl",
      "execution_count": null,
      "outputs": [
        {
          "output_type": "execute_result",
          "data": {
            "text/plain": [
              "array([[ 0.00000000e+00],\n",
              "       [ 4.77488188e-05],\n",
              "       [ 2.53229691e-04],\n",
              "       [ 3.94086267e-06],\n",
              "       [ 7.80368846e-06],\n",
              "       [-6.11126353e-05],\n",
              "       [-6.55906112e-04],\n",
              "       [-4.21825941e-05],\n",
              "       [ 0.00000000e+00],\n",
              "       [ 2.27501905e-04],\n",
              "       [ 2.03167810e-03],\n",
              "       [ 4.27501905e-04],\n",
              "       [ 4.86335620e-03],\n",
              "       [ 4.94168572e-04]])"
            ]
          },
          "metadata": {},
          "execution_count": 118
        }
      ]
    },
    {
      "cell_type": "code",
      "source": [
        "U9y=np.zeros(7)\n",
        "U9s = np.zeros(7)\n",
        "for i in range(len(U9y)):\n",
        "  U9y[i]=U92[2*i]\n",
        "for i in range(len(U9s)):\n",
        "  U9s[i]=U92[2*i+1]"
      ],
      "metadata": {
        "colab": {
          "base_uri": "https://localhost:8080/"
        },
        "id": "hd3_qek3hoTB",
        "outputId": "9440e13c-fd6a-4895-dd96-872fc3e0e5fd"
      },
      "id": "hd3_qek3hoTB",
      "execution_count": null,
      "outputs": [
        {
          "output_type": "stream",
          "name": "stderr",
          "text": [
            "<ipython-input-119-c113bd39d6ce>:4: DeprecationWarning: Conversion of an array with ndim > 0 to a scalar is deprecated, and will error in future. Ensure you extract a single element from your array before performing this operation. (Deprecated NumPy 1.25.)\n",
            "  U9y[i]=U92[2*i]\n",
            "<ipython-input-119-c113bd39d6ce>:6: DeprecationWarning: Conversion of an array with ndim > 0 to a scalar is deprecated, and will error in future. Ensure you extract a single element from your array before performing this operation. (Deprecated NumPy 1.25.)\n",
            "  U9s[i]=U92[2*i+1]\n"
          ]
        }
      ]
    },
    {
      "cell_type": "code",
      "source": [
        "U9y  # Displacements"
      ],
      "metadata": {
        "colab": {
          "base_uri": "https://localhost:8080/"
        },
        "id": "orCzx5ahilQl",
        "outputId": "036c49b4-7fe9-4acf-ab24-5a3a3e64d17c"
      },
      "id": "orCzx5ahilQl",
      "execution_count": null,
      "outputs": [
        {
          "output_type": "execute_result",
          "data": {
            "text/plain": [
              "array([ 0.00000000e+00,  2.53229691e-04,  7.80368846e-06, -6.55906112e-04,\n",
              "        0.00000000e+00,  2.03167810e-03,  4.86335620e-03])"
            ]
          },
          "metadata": {},
          "execution_count": 120
        }
      ]
    },
    {
      "cell_type": "code",
      "source": [
        "U9s   # slopes"
      ],
      "metadata": {
        "colab": {
          "base_uri": "https://localhost:8080/"
        },
        "id": "wjRqH1Lkk9Ay",
        "outputId": "bfac2f92-b8b4-4421-f169-4455e46e71f7"
      },
      "id": "wjRqH1Lkk9Ay",
      "execution_count": null,
      "outputs": [
        {
          "output_type": "execute_result",
          "data": {
            "text/plain": [
              "array([ 4.77488188e-05,  3.94086267e-06, -6.11126353e-05, -4.21825941e-05,\n",
              "        2.27501905e-04,  4.27501905e-04,  4.94168572e-04])"
            ]
          },
          "metadata": {},
          "execution_count": 121
        }
      ]
    },
    {
      "cell_type": "code",
      "source": [
        "pt.plot(nodal_data[:,1],U9y)"
      ],
      "metadata": {
        "colab": {
          "base_uri": "https://localhost:8080/",
          "height": 447
        },
        "id": "Z9rHjoI2mP5U",
        "outputId": "049a365b-99fe-4552-95c2-01a7a52cb641"
      },
      "id": "Z9rHjoI2mP5U",
      "execution_count": null,
      "outputs": [
        {
          "output_type": "execute_result",
          "data": {
            "text/plain": [
              "[<matplotlib.lines.Line2D at 0x7a9a8bafca60>]"
            ]
          },
          "metadata": {},
          "execution_count": 122
        },
        {
          "output_type": "display_data",
          "data": {
            "text/plain": [
              "<Figure size 640x480 with 1 Axes>"
            ],
            "image/png": "[encoded data removed]"
          },
          "metadata": {}
        }
      ]
    },
    {
      "cell_type": "code",
      "source": [
        "y2=[]\n",
        "for i in range(len(U9s)-1):\n",
        "  e = (U9s[i+1]-U9s[i])/(nodal_data[i+1,1]-nodal_data[i,1])  # TO get strains St\n",
        "  y2.append(e)\n",
        "y2=np.array(y2)"
      ],
      "metadata": {
        "id": "Hhrukla7m4kW"
      },
      "id": "Hhrukla7m4kW",
      "execution_count": null,
      "outputs": []
    },
    {
      "cell_type": "code",
      "source": [
        "M=y2*E*I   # moment"
      ],
      "metadata": {
        "id": "VucKJMz_n4bk"
      },
      "id": "VucKJMz_n4bk",
      "execution_count": null,
      "outputs": []
    },
    {
      "cell_type": "code",
      "source": [
        "for i in range(len(M)):\n",
        "  x_val1 = np.arange(nodal_data[i,1], nodal_data[i+1,1]+0.01,nodal_data[i+1,1]-nodal_data[i,1])\n",
        "  pt.plot(x_val1, np.array([M[i],M[i]]))# ,label=\"Stress in Element by FEM\")\n",
        "pt.legend()\n",
        "pt.grid('on')\n",
        "pt.show()"
      ],
      "metadata": {
        "colab": {
          "base_uri": "https://localhost:8080/",
          "height": 467
        },
        "id": "VlZmM-1WpMl1",
        "outputId": "27b2e4c6-7439-4f82-b6a9-cbfdab88e54b"
      },
      "id": "VlZmM-1WpMl1",
      "execution_count": null,
      "outputs": [
        {
          "output_type": "stream",
          "name": "stderr",
          "text": [
            "WARNING:matplotlib.legend:No artists with labels found to put in legend.  Note that artists whose label start with an underscore are ignored when legend() is called with no argument.\n"
          ]
        },
        {
          "output_type": "display_data",
          "data": {
            "text/plain": [
              "<Figure size 640x480 with 1 Axes>"
            ],
            "image/png": "[encoded data removed]"
          },
          "metadata": {}
        }
      ]
    },
    {
      "cell_type": "code",
      "source": [
        "z=symbols('z')\n",
        "l=1\n",
        "Y_el2=[]\n",
        "M_el2=[]\n",
        "S_el2=[]\n",
        "N=np.array([1-3*z**2/l**2+2*z**3/l**3,z-2*z**2/l+z**3/l**2,3*z**2/l**2-2*z**3/l**3,-z**2/l+z**3/l**2])\n",
        "for i in range(6):\n",
        "  Y1 =np.dot(N,U92[(2*i):(2*i+4),0])\n",
        "  M1=E*I*(diff(Y1,z,2))\n",
        "  S1 = -E*I*(diff(Y1,z,3))\n",
        "  Y_el2.append(Y1)\n",
        "  M_el2.append(M1)\n",
        "  S_el2.append(S1)"
      ],
      "metadata": {
        "id": "xUI_wsD3JCJ3"
      },
      "id": "xUI_wsD3JCJ3",
      "execution_count": null,
      "outputs": []
    },
    {
      "cell_type": "code",
      "source": [
        "Y_el2[5]"
      ],
      "metadata": {
        "colab": {
          "base_uri": "https://localhost:8080/",
          "height": 39
        },
        "id": "K34jUgpfKAph",
        "outputId": "7bec24e1-39e5-426a-f755-065da2c329af"
      },
      "id": "K34jUgpfKAph",
      "execution_count": null,
      "outputs": [
        {
          "output_type": "execute_result",
          "data": {
            "text/plain": [
              "-0.00474168571864053*z**3 + 0.00714586191129412*z**2 + 0.000427501905197386*z + 0.00203167809785098"
            ],
            "text/latex": "$\\displaystyle - 0.00474168571864053 z^{3} + 0.00714586191129412 z^{2} + 0.000427501905197386 z + 0.00203167809785098$"
          },
          "metadata": {},
          "execution_count": 127
        }
      ]
    },
    {
      "cell_type": "code",
      "source": [
        "x_val1 = np.arange(0, 1.1,0.1)\n",
        "y_val1 = [Y_el2[0].subs(z, val) for val in x_val1]\n",
        "x_val2 = np.arange(0, 1.1,0.1)\n",
        "y_val2 = [Y_el2[1].subs(z, val) for val in x_val2]\n",
        "x_val3 = np.arange(0, 1.1,0.1)\n",
        "y_val3 = [Y_el2[2].subs(z, val) for val in x_val3]\n",
        "x_val4 = np.arange(0, 1.1,0.1)\n",
        "y_val4 = [Y_el2[3].subs(z, val) for val in x_val4]\n",
        "x_val5 = np.arange(0, 1.1,0.1)\n",
        "y_val5 = [Y_el2[4].subs(z, val) for val in x_val5]\n",
        "x_val6 = np.arange(0, 1.1,0.1)\n",
        "y_val6 = [Y_el2[5].subs(z, val) for val in x_val6]\n",
        "pt.plot(x_val1, y_val1)\n",
        "pt.plot(x_val2+1, y_val2)\n",
        "pt.plot(x_val3+2, y_val3)\n",
        "pt.plot(x_val4+3, y_val4)\n",
        "pt.plot(x_val5+4, y_val5)\n",
        "pt.plot(x_val6+5, y_val6)\n",
        "pt.grid()\n",
        "pt.title('For 6-element Descretization')\n",
        "pt.xlabel('Distance of element (Scaled, i.e, elements of different length)')\n",
        "pt.ylabel('Displacement in Y direction')"
      ],
      "metadata": {
        "colab": {
          "base_uri": "https://localhost:8080/",
          "height": 489
        },
        "id": "qwj7Usy_KuA-",
        "outputId": "b4fd33dd-b766-4fde-9077-b05c0c250d71"
      },
      "id": "qwj7Usy_KuA-",
      "execution_count": null,
      "outputs": [
        {
          "output_type": "execute_result",
          "data": {
            "text/plain": [
              "Text(0, 0.5, 'Displacement in Y direction')"
            ]
          },
          "metadata": {},
          "execution_count": 128
        },
        {
          "output_type": "display_data",
          "data": {
            "text/plain": [
              "<Figure size 640x480 with 1 Axes>"
            ],
            "image/png": "[encoded data removed]"
          },
          "metadata": {}
        }
      ]
    },
    {
      "cell_type": "code",
      "source": [
        "# nodal data for 6 elements, 7 nodes\n",
        "# Choosing Linear Bar Element\n",
        "ndof, nnodcon = 2, 2\n",
        "\n",
        "# Unit length bar discretized with 5 elements\n",
        "L, nel = 48, 12\n",
        "nodal_data = np.zeros([nel+1, 2])\n",
        "for i in range(nel+1):\n",
        "    nodal_data[i, 0] = i\n",
        "    nodal_data[i, 1] = i*L/nel\n",
        "\n",
        "# Define Geometry parameters E,A\n",
        "E, I = 30e6, 4.5\n",
        "\n",
        "# Size of element connectivity array is 3*nnodcon+2\n",
        "eleconnect = np.zeros([nel, (1 + (nnodcon * 3) + 1)])\n",
        "for i in range(nel):\n",
        "    eleconnect[i, 0] = i       # Element Number\n",
        "    eleconnect[i, 1] = i       # Left node for element\n",
        "    eleconnect[i, 2] = i + 1   # Right node for element\n",
        "    eleconnect[i, 3] = E*I     # EA or the correct value at the left node\n",
        "    eleconnect[i, 4] = E*I     # EA or the correct value at the right node\n",
        "    eleconnect[i, 5] = 0       # hP or the correct value at the left node         # for conduction problem hp will be there\n",
        "    eleconnect[i, 6] = 0       # hP or the correct value at the right node\n",
        "    eleconnect[i, 7] = 2       # Gauss points for numerical integration\n",
        "z=symbols('z')\n",
        "fixeddofs = np.array([[0 , 1, 0,  0 , 0],[9,1,0,0,0]])\n",
        "l1 =np.array([[2,0,30*(1-z/48),2],[2,1,30*(1-(z+nodal_data[1,1])/48),2],[2,1,30*(1-(z+nodal_data[2,1])/48),2],[2,1,30*(1-(z+nodal_data[3,1])/48),2],[2,4,20,2],[2,5,20,2],[2,6,20,2],[2,7,20,2],[2,8,20,2],[1,12,500,0]])"
      ],
      "metadata": {
        "id": "kFkfHhtoeDKv"
      },
      "id": "kFkfHhtoeDKv",
      "execution_count": null,
      "outputs": []
    },
    {
      "cell_type": "code",
      "source": [
        "blockPrint()\n",
        "U93, St93 = Fem_1D(ndof, nodal_data, nnodcon, eleconnect, fixeddofs, l1, shape_beamln,beam_load)"
      ],
      "metadata": {
        "colab": {
          "base_uri": "https://localhost:8080/"
        },
        "id": "2EPH_yEze-Rx",
        "outputId": "ca68d992-b17f-466c-f93c-6b194e8888e1"
      },
      "id": "2EPH_yEze-Rx",
      "execution_count": null,
      "outputs": [
        {
          "output_type": "stream",
          "name": "stderr",
          "text": [
            "<ipython-input-13-bbdcfd4b5491>:198: DeprecationWarning: Conversion of an array with ndim > 0 to a scalar is deprecated, and will error in future. Ensure you extract a single element from your array before performing this operation. (Deprecated NumPy 1.25.)\n",
            "  Uy[i]=U[2*i]\n",
            "<ipython-input-13-bbdcfd4b5491>:200: DeprecationWarning: Conversion of an array with ndim > 0 to a scalar is deprecated, and will error in future. Ensure you extract a single element from your array before performing this operation. (Deprecated NumPy 1.25.)\n",
            "  Us[i]=U[2*i+1]\n"
          ]
        }
      ]
    },
    {
      "cell_type": "code",
      "source": [
        "U93"
      ],
      "metadata": {
        "colab": {
          "base_uri": "https://localhost:8080/"
        },
        "id": "f6PCkahYfAEc",
        "outputId": "34546035-c71f-40f0-d9f4-5a33a5549ea2"
      },
      "id": "f6PCkahYfAEc",
      "execution_count": null,
      "outputs": [
        {
          "output_type": "execute_result",
          "data": {
            "text/plain": [
              "array([[ 0.00000000e+00],\n",
              "       [ 1.61201036e-05],\n",
              "       [ 4.38201494e-05],\n",
              "       [ 1.20103643e-06],\n",
              "       [-1.46148453e-05],\n",
              "       [-3.10129553e-05],\n",
              "       [-1.92512117e-04],\n",
              "       [-5.57811309e-05],\n",
              "       [-4.43627496e-04],\n",
              "       [-6.76220088e-05],\n",
              "       [-7.14671544e-04],\n",
              "       [-6.49553422e-05],\n",
              "       [-9.33391861e-04],\n",
              "       [-3.98798964e-05],\n",
              "       [-9.91190367e-04],\n",
              "       [ 1.70858101e-05],\n",
              "       [-7.41543057e-04],\n",
              "       [ 1.15423259e-04],\n",
              "       [ 0.00000000e+00],\n",
              "       [ 2.64613931e-04],\n",
              "       [ 1.37450511e-03],\n",
              "       [ 4.12762079e-04],\n",
              "       [ 3.22308429e-03],\n",
              "       [ 5.01650968e-04],\n",
              "       [ 5.30870050e-03],\n",
              "       [ 5.31280597e-04]])"
            ]
          },
          "metadata": {},
          "execution_count": 131
        }
      ]
    },
    {
      "cell_type": "code",
      "source": [
        "St93"
      ],
      "metadata": {
        "id": "kL2CxqXsgJI4",
        "colab": {
          "base_uri": "https://localhost:8080/"
        },
        "outputId": "d2e0115b-fd2a-4d36-b148-a0579fde48ef"
      },
      "id": "kL2CxqXsgJI4",
      "execution_count": null,
      "outputs": [
        {
          "output_type": "execute_result",
          "data": {
            "text/plain": [
              "array([ 1.09550373e-05, -1.46087487e-05, -4.44743179e-05, -6.27788447e-05,\n",
              "       -6.77610120e-05, -5.46800793e-05, -1.44496266e-05,  6.24118275e-05,\n",
              "        1.85385764e-04,  3.43626276e-04,  4.62144795e-04,  5.21404054e-04])"
            ]
          },
          "metadata": {},
          "execution_count": 132
        }
      ]
    },
    {
      "cell_type": "markdown",
      "source": [
        "## QUIZ 2"
      ],
      "metadata": {
        "id": "7i04ZGyrM2aJ"
      },
      "id": "7i04ZGyrM2aJ"
    },
    {
      "cell_type": "code",
      "source": [
        "# Choosing Linear Bar Element\n",
        "ndof, nnodcon = 2, 2\n",
        "\n",
        "# Unit length bar discretized with 5 elements\n",
        "L, nel = 8, 3\n",
        "\n",
        "# Create nodal data array\n",
        "#nodal_data = np.zeros([nel+1, 2])\n",
        "#for i in range(nel+1):\n",
        "#   nodal_data[i, 0] = i\n",
        "#   nodal_data[i, 1] = i*L/nel\n",
        "nodal_data = np.zeros([nel+1, 2])\n",
        "nodal_data[1,:]=np.array([1,2.5])\n",
        "nodal_data[2,:]=np.array([2,2.5+3])\n",
        "nodal_data[3,:]=np.array([3,5.5+2.5])\n",
        "\n",
        "# Define Geometry parameters E,A\n",
        "E, I1,I2 = 200e9, 1.604e-4,3.705e-4\n",
        "\n",
        "# Size of element connectivity array is 3*nnodcon+2\n",
        "eleconnect = np.zeros([nel, (1 + (nnodcon * 3) + 1)])\n",
        "for i in range(nel):\n",
        "  if i==2:\n",
        "    eleconnect[i, 1] = i       # Left node for element\n",
        "    eleconnect[i, 2] = i + 1   # Right node for element\n",
        "    eleconnect[i, 3] = E*I2     # EA or the correct value at the left node\n",
        "    eleconnect[i, 4] = E*I2    # EA or the correct value at the right node\n",
        "    eleconnect[i, 5] = 0       # hP or the correct value at the left node         # for conduction problem hp will be there\n",
        "    eleconnect[i, 6] = 0       # hP or the correct value at the right node\n",
        "    eleconnect[i, 7] = 2\n",
        "  else:\n",
        "    eleconnect[i, 0] = i       # Element Number\n",
        "    eleconnect[i, 1] = i       # Left node for element\n",
        "    eleconnect[i, 2] = i + 1   # Right node for element\n",
        "    eleconnect[i, 3] = E*I1     # EA or the correct value at the left node\n",
        "    eleconnect[i, 4] = E*I1     # EA or the correct value at the right node\n",
        "    eleconnect[i, 5] = 0       # hP or the correct value at the left node         # for conduction problem hp will be there\n",
        "    eleconnect[i, 6] = 0       # hP or the correct value at the right node\n",
        "    eleconnect[i, 7] = 2       # Gauss points for numerical integration\n",
        "\n",
        "\n",
        "# Fixed degrees of freedom for bar\n",
        "fixeddofs = np.array([[0 , 1,1, 0,  0 ]])\n",
        "l1 =np.array([[2,2,4000,2],[1,1,8000,0],[1,1,0,-4000]])\n"
      ],
      "metadata": {
        "id": "1tW60pFkOGua"
      },
      "id": "1tW60pFkOGua",
      "execution_count": null,
      "outputs": []
    },
    {
      "cell_type": "code",
      "source": [
        "nodal_data"
      ],
      "metadata": {
        "colab": {
          "base_uri": "https://localhost:8080/"
        },
        "id": "yHWNn6cjIeDM",
        "outputId": "970e9320-326b-44bd-9de0-b4a3939eedf3"
      },
      "id": "yHWNn6cjIeDM",
      "execution_count": null,
      "outputs": [
        {
          "output_type": "execute_result",
          "data": {
            "text/plain": [
              "array([[0. , 0. ],\n",
              "       [1. , 2.5],\n",
              "       [2. , 5.5],\n",
              "       [3. , 8. ]])"
            ]
          },
          "metadata": {},
          "execution_count": 223
        }
      ]
    },
    {
      "cell_type": "code",
      "source": [
        "eleconnect"
      ],
      "metadata": {
        "colab": {
          "base_uri": "https://localhost:8080/"
        },
        "id": "IDMaMlaIIfg0",
        "outputId": "9ee67073-6f6c-4303-9299-ef448b114b45"
      },
      "id": "IDMaMlaIIfg0",
      "execution_count": null,
      "outputs": [
        {
          "output_type": "execute_result",
          "data": {
            "text/plain": [
              "array([[0.000e+00, 0.000e+00, 1.000e+00, 3.208e+07, 3.208e+07, 0.000e+00,\n",
              "        0.000e+00, 2.000e+00],\n",
              "       [1.000e+00, 1.000e+00, 2.000e+00, 3.208e+07, 3.208e+07, 0.000e+00,\n",
              "        0.000e+00, 2.000e+00],\n",
              "       [0.000e+00, 2.000e+00, 3.000e+00, 7.410e+07, 7.410e+07, 0.000e+00,\n",
              "        0.000e+00, 2.000e+00]])"
            ]
          },
          "metadata": {},
          "execution_count": 224
        }
      ]
    },
    {
      "cell_type": "code",
      "source": [
        "Up, Stp = Fem_1D(ndof, nodal_data, nnodcon, eleconnect, fixeddofs, l1, shape_beamln,beam_load)"
      ],
      "metadata": {
        "colab": {
          "base_uri": "https://localhost:8080/"
        },
        "id": "OgAFlCagI9nB",
        "outputId": "95ecd57f-0171-4d0e-f69f-a8328338b899"
      },
      "id": "OgAFlCagI9nB",
      "execution_count": null,
      "outputs": [
        {
          "output_type": "stream",
          "name": "stderr",
          "text": [
            "<ipython-input-13-bbdcfd4b5491>:198: DeprecationWarning: Conversion of an array with ndim > 0 to a scalar is deprecated, and will error in future. Ensure you extract a single element from your array before performing this operation. (Deprecated NumPy 1.25.)\n",
            "  Uy[i]=U[2*i]\n",
            "<ipython-input-13-bbdcfd4b5491>:200: DeprecationWarning: Conversion of an array with ndim > 0 to a scalar is deprecated, and will error in future. Ensure you extract a single element from your array before performing this operation. (Deprecated NumPy 1.25.)\n",
            "  Us[i]=U[2*i+1]\n"
          ]
        }
      ]
    },
    {
      "cell_type": "markdown",
      "source": [
        "## Initial solution"
      ],
      "metadata": {
        "id": "BrZJD4XUK76O"
      },
      "id": "BrZJD4XUK76O"
    },
    {
      "cell_type": "code",
      "source": [
        "Up"
      ],
      "metadata": {
        "colab": {
          "base_uri": "https://localhost:8080/"
        },
        "id": "yhdMdBuXK3xC",
        "outputId": "27011e3d-e018-4fc7-89f9-bad64bc36d16"
      },
      "id": "yhdMdBuXK3xC",
      "execution_count": null,
      "outputs": [
        {
          "output_type": "execute_result",
          "data": {
            "text/plain": [
              "array([[0.        ],\n",
              "       [0.        ],\n",
              "       [0.00667277],\n",
              "       [0.00475374],\n",
              "       [0.02549291],\n",
              "       [0.00732544],\n",
              "       [0.04407008],\n",
              "       [0.00746601]])"
            ]
          },
          "metadata": {},
          "execution_count": 226
        }
      ]
    },
    {
      "cell_type": "code",
      "source": [
        "U7y=np.zeros(nel+1)\n",
        "U7s = np.zeros(nel+1)\n",
        "for i in range(len(U7y)):\n",
        "  U7y[i]=Up[2*i]\n",
        "for i in range(len(U7s)):\n",
        "  U7s[i]=Up[2*i+1]"
      ],
      "metadata": {
        "colab": {
          "base_uri": "https://localhost:8080/"
        },
        "id": "jqs9ORwzK4tM",
        "outputId": "d5088537-8b38-4be3-bed7-52270f3aa784"
      },
      "id": "jqs9ORwzK4tM",
      "execution_count": null,
      "outputs": [
        {
          "output_type": "stream",
          "name": "stderr",
          "text": [
            "<ipython-input-227-7997e54d8616>:4: DeprecationWarning: Conversion of an array with ndim > 0 to a scalar is deprecated, and will error in future. Ensure you extract a single element from your array before performing this operation. (Deprecated NumPy 1.25.)\n",
            "  U7y[i]=Up[2*i]\n",
            "<ipython-input-227-7997e54d8616>:6: DeprecationWarning: Conversion of an array with ndim > 0 to a scalar is deprecated, and will error in future. Ensure you extract a single element from your array before performing this operation. (Deprecated NumPy 1.25.)\n",
            "  U7s[i]=Up[2*i+1]\n"
          ]
        }
      ]
    },
    {
      "cell_type": "code",
      "source": [
        "# Choosing Linear Bar Element\n",
        "ndof, nnodcon = 2, 2\n",
        "\n",
        "# Unit length bar discretized with 5 elements\n",
        "L, nel = 8, 6\n",
        "\n",
        "# Create nodal data array\n",
        "#nodal_data = np.zeros([nel+1, 2])\n",
        "#for i in range(nel+1):\n",
        "#   nodal_data[i, 0] = i\n",
        "#   nodal_data[i, 1] = i*L/nel\n",
        "nodal_data = np.zeros([nel+1, 2])\n",
        "nodal_data[1,:]=np.array([1,2.5/2])\n",
        "nodal_data[2,:]=np.array([2,2.5])\n",
        "nodal_data[3,:]=np.array([3,2.5+3/2])\n",
        "nodal_data[4,:]=np.array([4,2.5+3])\n",
        "nodal_data[5,:]=np.array([5,5.5+2.5/2])\n",
        "nodal_data[6,:]=np.array([6,5.5+2.5])\n",
        "\n",
        "# Define Geometry parameters E,A\n",
        "E, I1,I2 = 200e9, 1.604e-4,3.705e-4\n",
        "\n",
        "# Size of element connectivity array is 3*nnodcon+2\n",
        "eleconnect = np.zeros([nel, (1 + (nnodcon * 3) + 1)])\n",
        "for i in range(nel):\n",
        "  if i>3:\n",
        "    eleconnect[i, 1] = i       # Left node for element\n",
        "    eleconnect[i, 2] = i + 1   # Right node for element\n",
        "    eleconnect[i, 3] = E*I2     # EA or the correct value at the left node\n",
        "    eleconnect[i, 4] = E*I2    # EA or the correct value at the right node\n",
        "    eleconnect[i, 5] = 0       # hP or the correct value at the left node         # for conduction problem hp will be there\n",
        "    eleconnect[i, 6] = 0       # hP or the correct value at the right node\n",
        "    eleconnect[i, 7] = 2\n",
        "  else:\n",
        "    eleconnect[i, 0] = i       # Element Number\n",
        "    eleconnect[i, 1] = i       # Left node for element\n",
        "    eleconnect[i, 2] = i + 1   # Right node for element\n",
        "    eleconnect[i, 3] = E*I1     # EA or the correct value at the left node\n",
        "    eleconnect[i, 4] = E*I1     # EA or the correct value at the right node\n",
        "    eleconnect[i, 5] = 0       # hP or the correct value at the left node         # for conduction problem hp will be there\n",
        "    eleconnect[i, 6] = 0       # hP or the correct value at the right node\n",
        "    eleconnect[i, 7] = 2       # Gauss points for numerical integration\n",
        "\n",
        "\n",
        "# Fixed degrees of freedom for bar\n",
        "fixeddofs = np.array([[0 , 1,1, 0,  0 ]])\n",
        "l1 =np.array([[2,5,4000,2],[2,4,4000,2],[1,2,8000,0],[1,2,0,-4000]])\n"
      ],
      "metadata": {
        "id": "-lOl4uTqLLq6"
      },
      "id": "-lOl4uTqLLq6",
      "execution_count": null,
      "outputs": []
    },
    {
      "cell_type": "code",
      "source": [
        "nodal_data"
      ],
      "metadata": {
        "colab": {
          "base_uri": "https://localhost:8080/"
        },
        "id": "69zzDw9vLj97",
        "outputId": "4c70aea4-44ea-49a3-e4d0-d2c9f6da3512"
      },
      "id": "69zzDw9vLj97",
      "execution_count": null,
      "outputs": [
        {
          "output_type": "execute_result",
          "data": {
            "text/plain": [
              "array([[0.  , 0.  ],\n",
              "       [1.  , 1.25],\n",
              "       [2.  , 2.5 ],\n",
              "       [3.  , 4.  ],\n",
              "       [4.  , 5.5 ],\n",
              "       [5.  , 6.75],\n",
              "       [6.  , 8.  ]])"
            ]
          },
          "metadata": {},
          "execution_count": 199
        }
      ]
    },
    {
      "cell_type": "code",
      "source": [
        "eleconnect"
      ],
      "metadata": {
        "colab": {
          "base_uri": "https://localhost:8080/"
        },
        "id": "eHR8vxhaLkqw",
        "outputId": "c14baaac-1d2c-430c-93dc-11c008c58a9a"
      },
      "id": "eHR8vxhaLkqw",
      "execution_count": null,
      "outputs": [
        {
          "output_type": "execute_result",
          "data": {
            "text/plain": [
              "array([[0.000e+00, 0.000e+00, 1.000e+00, 3.208e+07, 3.208e+07, 0.000e+00,\n",
              "        0.000e+00, 2.000e+00],\n",
              "       [1.000e+00, 1.000e+00, 2.000e+00, 3.208e+07, 3.208e+07, 0.000e+00,\n",
              "        0.000e+00, 2.000e+00],\n",
              "       [2.000e+00, 2.000e+00, 3.000e+00, 3.208e+07, 3.208e+07, 0.000e+00,\n",
              "        0.000e+00, 2.000e+00],\n",
              "       [3.000e+00, 3.000e+00, 4.000e+00, 3.208e+07, 3.208e+07, 0.000e+00,\n",
              "        0.000e+00, 2.000e+00],\n",
              "       [0.000e+00, 4.000e+00, 5.000e+00, 7.410e+07, 7.410e+07, 0.000e+00,\n",
              "        0.000e+00, 2.000e+00],\n",
              "       [0.000e+00, 5.000e+00, 6.000e+00, 7.410e+07, 7.410e+07, 0.000e+00,\n",
              "        0.000e+00, 2.000e+00]])"
            ]
          },
          "metadata": {},
          "execution_count": 200
        }
      ]
    },
    {
      "cell_type": "code",
      "source": [
        "Up2, Stp2 = Fem_1D(ndof, nodal_data, nnodcon, eleconnect, fixeddofs, l1, shape_beamln,beam_load)"
      ],
      "metadata": {
        "colab": {
          "base_uri": "https://localhost:8080/"
        },
        "id": "lbP79LDaMG4b",
        "outputId": "5738ce89-a269-46e7-d928-3e40f6721de2"
      },
      "id": "lbP79LDaMG4b",
      "execution_count": null,
      "outputs": [
        {
          "output_type": "stream",
          "name": "stderr",
          "text": [
            "<ipython-input-13-bbdcfd4b5491>:198: DeprecationWarning: Conversion of an array with ndim > 0 to a scalar is deprecated, and will error in future. Ensure you extract a single element from your array before performing this operation. (Deprecated NumPy 1.25.)\n",
            "  Uy[i]=U[2*i]\n",
            "<ipython-input-13-bbdcfd4b5491>:200: DeprecationWarning: Conversion of an array with ndim > 0 to a scalar is deprecated, and will error in future. Ensure you extract a single element from your array before performing this operation. (Deprecated NumPy 1.25.)\n",
            "  Us[i]=U[2*i+1]\n"
          ]
        }
      ]
    },
    {
      "cell_type": "code",
      "source": [
        "U7y2=np.zeros(nel+1)\n",
        "U7s2 = np.zeros(nel+1)\n",
        "for i in range(len(U7y2)):\n",
        "  U7y2[i]=Up2[2*i]\n",
        "for i in range(len(U7s2)):\n",
        "  U7s2[i]=Up2[2*i+1]"
      ],
      "metadata": {
        "colab": {
          "base_uri": "https://localhost:8080/"
        },
        "id": "iiCY0mjmMfBq",
        "outputId": "8b8c1c6f-15d1-40db-8873-4ce2cf407347"
      },
      "id": "iiCY0mjmMfBq",
      "execution_count": null,
      "outputs": [
        {
          "output_type": "stream",
          "name": "stderr",
          "text": [
            "<ipython-input-202-6cba657593bd>:4: DeprecationWarning: Conversion of an array with ndim > 0 to a scalar is deprecated, and will error in future. Ensure you extract a single element from your array before performing this operation. (Deprecated NumPy 1.25.)\n",
            "  U7y2[i]=Up2[2*i]\n",
            "<ipython-input-202-6cba657593bd>:6: DeprecationWarning: Conversion of an array with ndim > 0 to a scalar is deprecated, and will error in future. Ensure you extract a single element from your array before performing this operation. (Deprecated NumPy 1.25.)\n",
            "  U7s2[i]=Up2[2*i+1]\n"
          ]
        }
      ]
    },
    {
      "cell_type": "markdown",
      "source": [
        "## Answer(b)"
      ],
      "metadata": {
        "id": "--uV2dakNEU7"
      },
      "id": "--uV2dakNEU7"
    },
    {
      "cell_type": "code",
      "source": [
        "pt.plot(nodal_data[:,1],U7y2)"
      ],
      "metadata": {
        "colab": {
          "base_uri": "https://localhost:8080/",
          "height": 447
        },
        "id": "Q5v8s-JYMmhk",
        "outputId": "808663a5-7c01-426d-d6f7-3e42ff8cdbec"
      },
      "id": "Q5v8s-JYMmhk",
      "execution_count": null,
      "outputs": [
        {
          "output_type": "execute_result",
          "data": {
            "text/plain": [
              "[<matplotlib.lines.Line2D at 0x7a9a8b79a350>]"
            ]
          },
          "metadata": {},
          "execution_count": 203
        },
        {
          "output_type": "display_data",
          "data": {
            "text/plain": [
              "<Figure size 640x480 with 1 Axes>"
            ],
            "image/png": "[encoded data removed]"
          },
          "metadata": {}
        }
      ]
    },
    {
      "cell_type": "markdown",
      "source": [
        "## Answer(a)"
      ],
      "metadata": {
        "id": "QrX7FA7_NHkA"
      },
      "id": "QrX7FA7_NHkA"
    },
    {
      "cell_type": "code",
      "source": [
        "pt.plot(nodal_data[:,1],U7y)"
      ],
      "metadata": {
        "colab": {
          "base_uri": "https://localhost:8080/",
          "height": 447
        },
        "id": "cV8gBcBQMte7",
        "outputId": "206c5463-a3dd-4ea2-b214-f2f96a4a957d"
      },
      "id": "cV8gBcBQMte7",
      "execution_count": null,
      "outputs": [
        {
          "output_type": "execute_result",
          "data": {
            "text/plain": [
              "[<matplotlib.lines.Line2D at 0x7a9a89819780>]"
            ]
          },
          "metadata": {},
          "execution_count": 228
        },
        {
          "output_type": "display_data",
          "data": {
            "text/plain": [
              "<Figure size 640x480 with 1 Axes>"
            ],
            "image/png": "[encoded data removed]"
          },
          "metadata": {}
        }
      ]
    },
    {
      "cell_type": "code",
      "source": [
        "# Choosing Linear Bar Element\n",
        "ndof, nnodcon = 2, 2\n",
        "\n",
        "# Unit length bar discretized with 5 elements\n",
        "L, nel = 8, 6\n",
        "\n",
        "# Create nodal data array\n",
        "#nodal_data = np.zeros([nel+1, 2])\n",
        "#for i in range(nel+1):\n",
        "#   nodal_data[i, 0] = i\n",
        "#   nodal_data[i, 1] = i*L/nel\n",
        "nodal_data = np.zeros([nel+1, 2])\n",
        "nodal_data[1,:]=np.array([1,2.5/2])\n",
        "nodal_data[2,:]=np.array([2,2.5])\n",
        "nodal_data[3,:]=np.array([3,2.5+3/2])\n",
        "nodal_data[4,:]=np.array([4,2.5+3])\n",
        "nodal_data[5,:]=np.array([5,5.5+2.5/2])\n",
        "nodal_data[6,:]=np.array([6,5.5+2.5])\n",
        "\n",
        "# Define Geometry parameters E,A\n",
        "E, I1,I2 = 200e9, 1.604e-4,3.705e-4\n",
        "\n",
        "# Size of element connectivity array is 3*nnodcon+2\n",
        "eleconnect = np.zeros([nel, (1 + (nnodcon * 3) + 1)])\n",
        "for i in range(nel):\n",
        "  if i>3:\n",
        "    eleconnect[i, 1] = i       # Left node for element\n",
        "    eleconnect[i, 2] = i + 1   # Right node for element\n",
        "    eleconnect[i, 3] = E*I2     # EA or the correct value at the left node\n",
        "    eleconnect[i, 4] = E*I2    # EA or the correct value at the right node\n",
        "    eleconnect[i, 5] = 0       # hP or the correct value at the left node         # for conduction problem hp will be there\n",
        "    eleconnect[i, 6] = 0       # hP or the correct value at the right node\n",
        "    eleconnect[i, 7] = 2\n",
        "  else:\n",
        "    eleconnect[i, 0] = i       # Element Number\n",
        "    eleconnect[i, 1] = i       # Left node for element\n",
        "    eleconnect[i, 2] = i + 1   # Right node for element\n",
        "    eleconnect[i, 3] = E*I1     # EA or the correct value at the left node\n",
        "    eleconnect[i, 4] = E*I1     # EA or the correct value at the right node\n",
        "    eleconnect[i, 5] = 0       # hP or the correct value at the left node         # for conduction problem hp will be there\n",
        "    eleconnect[i, 6] = 0       # hP or the correct value at the right node\n",
        "    eleconnect[i, 7] = 2       # Gauss points for numerical integration\n",
        "\n",
        "\n",
        "# Fixed degrees of freedom for bar\n",
        "fixeddofs = np.array([[0 , 1,1, 0,  0 ]])\n",
        "l1 =np.array([[2,5,4000,2],[2,4,4000,2],[1,2,8000,0],[1,2,0,-4000],[3,7,741000,0]])  # E*I2*0.01=741000\n"
      ],
      "metadata": {
        "id": "er3GTHjcNAh3"
      },
      "id": "er3GTHjcNAh3",
      "execution_count": null,
      "outputs": []
    },
    {
      "cell_type": "code",
      "source": [
        "Up3, Stp3 = Fem_1D(ndof, nodal_data, nnodcon, eleconnect, fixeddofs, l1, shape_beamln,beam_load)"
      ],
      "metadata": {
        "colab": {
          "base_uri": "https://localhost:8080/"
        },
        "id": "v3kJe0duNoN5",
        "outputId": "ceb48d26-ad37-4f17-f8fb-ac13962834f9"
      },
      "id": "v3kJe0duNoN5",
      "execution_count": null,
      "outputs": [
        {
          "output_type": "stream",
          "name": "stderr",
          "text": [
            "<ipython-input-13-bbdcfd4b5491>:198: DeprecationWarning: Conversion of an array with ndim > 0 to a scalar is deprecated, and will error in future. Ensure you extract a single element from your array before performing this operation. (Deprecated NumPy 1.25.)\n",
            "  Uy[i]=U[2*i]\n",
            "<ipython-input-13-bbdcfd4b5491>:200: DeprecationWarning: Conversion of an array with ndim > 0 to a scalar is deprecated, and will error in future. Ensure you extract a single element from your array before performing this operation. (Deprecated NumPy 1.25.)\n",
            "  Us[i]=U[2*i+1]\n"
          ]
        }
      ]
    },
    {
      "cell_type": "code",
      "source": [
        "Up3"
      ],
      "metadata": {
        "colab": {
          "base_uri": "https://localhost:8080/"
        },
        "id": "pQA82jX4OWgP",
        "outputId": "22867b6a-39ad-47c1-b6f3-bc973c6b66ca"
      },
      "id": "pQA82jX4OWgP",
      "execution_count": null,
      "outputs": [
        {
          "output_type": "execute_result",
          "data": {
            "text/plain": [
              "array([[0.        ],\n",
              "       [0.        ],\n",
              "       [0.00174528],\n",
              "       [0.00264633],\n",
              "       [0.00625052],\n",
              "       [0.00441594],\n",
              "       [0.01403748],\n",
              "       [0.00584979],\n",
              "       [0.02360121],\n",
              "       [0.00678495],\n",
              "       [0.03217575],\n",
              "       [0.00690795],\n",
              "       [0.04082717],\n",
              "       [0.00692553]])"
            ]
          },
          "metadata": {},
          "execution_count": 237
        }
      ]
    },
    {
      "cell_type": "code",
      "source": [
        "U7y3=np.zeros(nel+1)\n",
        "U7s3 = np.zeros(nel+1)\n",
        "for i in range(len(U7y3)):\n",
        "  U7y3[i]=Up3[2*i]\n",
        "for i in range(len(U7s3)):\n",
        "  U7s3[i]=Up3[2*i+1]"
      ],
      "metadata": {
        "colab": {
          "base_uri": "https://localhost:8080/"
        },
        "id": "hHp3WRtKNvue",
        "outputId": "b8b83662-afa8-4234-809b-df49c7ea0bdd"
      },
      "id": "hHp3WRtKNvue",
      "execution_count": null,
      "outputs": [
        {
          "output_type": "stream",
          "name": "stderr",
          "text": [
            "<ipython-input-238-c72ca50c1db7>:4: DeprecationWarning: Conversion of an array with ndim > 0 to a scalar is deprecated, and will error in future. Ensure you extract a single element from your array before performing this operation. (Deprecated NumPy 1.25.)\n",
            "  U7y3[i]=Up3[2*i]\n",
            "<ipython-input-238-c72ca50c1db7>:6: DeprecationWarning: Conversion of an array with ndim > 0 to a scalar is deprecated, and will error in future. Ensure you extract a single element from your array before performing this operation. (Deprecated NumPy 1.25.)\n",
            "  U7s3[i]=Up3[2*i+1]\n"
          ]
        }
      ]
    },
    {
      "cell_type": "code",
      "source": [
        "U7y3"
      ],
      "metadata": {
        "colab": {
          "base_uri": "https://localhost:8080/"
        },
        "id": "axPxmi9cOibl",
        "outputId": "e52107fa-13ef-4134-f5f7-c84add82cfa4"
      },
      "id": "axPxmi9cOibl",
      "execution_count": null,
      "outputs": [
        {
          "output_type": "execute_result",
          "data": {
            "text/plain": [
              "array([0.        , 0.00174528, 0.00625052, 0.01403748, 0.02360121,\n",
              "       0.03217575, 0.04082717])"
            ]
          },
          "metadata": {},
          "execution_count": 239
        }
      ]
    },
    {
      "cell_type": "code",
      "source": [
        "pt.plot(nodal_data[:,1],U7y3)"
      ],
      "metadata": {
        "colab": {
          "base_uri": "https://localhost:8080/",
          "height": 447
        },
        "id": "t5R8mFT1OQgS",
        "outputId": "9b323b10-ae61-4cc2-e8db-c054f92ca90d"
      },
      "id": "t5R8mFT1OQgS",
      "execution_count": null,
      "outputs": [
        {
          "output_type": "execute_result",
          "data": {
            "text/plain": [
              "[<matplotlib.lines.Line2D at 0x7a9a89956f20>]"
            ]
          },
          "metadata": {},
          "execution_count": 240
        },
        {
          "output_type": "display_data",
          "data": {
            "text/plain": [
              "<Figure size 640x480 with 1 Axes>"
            ],
            "image/png": "[encoded data removed]"
          },
          "metadata": {}
        }
      ]
    },
    {
      "cell_type": "code",
      "source": [],
      "metadata": {
        "id": "M4uTxKl8OUqb"
      },
      "id": "M4uTxKl8OUqb",
      "execution_count": null,
      "outputs": []
    }
  ],
  "metadata": {
    "kernelspec": {
      "display_name": "Python 3 (ipykernel)",
      "language": "python",
      "name": "python3"
    },
    "language_info": {
      "codemirror_mode": {
        "name": "ipython",
        "version": 3
      },
      "file_extension": ".py",
      "mimetype": "text/x-python",
      "name": "python",
      "nbconvert_exporter": "python",
      "pygments_lexer": "ipython3",
      "version": "3.10.12"
    },
    "colab": {
      "provenance": []
    }
  },
  "nbformat": 4,
  "nbformat_minor": 5
}